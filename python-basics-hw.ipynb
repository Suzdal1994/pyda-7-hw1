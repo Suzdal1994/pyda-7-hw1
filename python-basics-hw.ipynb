{
 "cells": [
  {
   "cell_type": "markdown",
   "metadata": {},
   "source": [
    "**Задание 1**. Даны 2 строки: *long_phrase* и *short_phrase*. \n",
    "Напишите код, который проверяет действительно ли длинная фраза *long_phrase* длиннее короткой *short_phrase*. И выводит *True* или *False* в зависимости от результата сравнения."
   ]
  },
  {
   "cell_type": "code",
   "execution_count": null,
   "metadata": {},
   "outputs": [],
   "source": [
    "long_phrase = 'Насколько проще было бы писать программы, если бы не заказчики'\n",
    "short_phrase = '640Кб должно хватить для любых задач. Билл Гейтс (по легенде)'"
   ]
  },
  {
   "cell_type": "code",
   "execution_count": 8,
   "metadata": {},
   "outputs": [
    {
     "data": {
      "text/plain": [
       "True"
      ]
     },
     "execution_count": 8,
     "metadata": {},
     "output_type": "execute_result"
    }
   ],
   "source": [
    "long_phrase = 'Насколько проще было бы писать программы, если бы не заказчики'\n",
    "short_phrase = '640Кб должно хватить для любых задач. Билл Гейтс (по легенде)'\n",
    "\n",
    "len (long_phrase) > len(short_phrase)"
   ]
  },
  {
   "cell_type": "markdown",
   "metadata": {},
   "source": [
    "**Задание 2**. Дано значение объема файла в байтах. Напишите перевод этого значения в мегабайты в формате: \"*Объем файла равен 213.68Mb*\""
   ]
  },
  {
   "cell_type": "code",
   "execution_count": 7,
   "metadata": {},
   "outputs": [
    {
     "name": "stdout",
     "output_type": "stream",
     "text": [
      "Объем файла равен 213.68 Mb\n"
     ]
    }
   ],
   "source": [
    "a = 213680000\n",
    "b = 1000000\n",
    "c = a/b \n",
    "print ('Объем файла равен', c, 'Mb')"
   ]
  },
  {
   "cell_type": "markdown",
   "metadata": {},
   "source": [
    "**Задание 3**. Разработать приложение для определения знака зодиака по дате рождения. Пример:\n",
    "\n",
    "Введите месяц: март\n",
    "\n",
    "Введите число: 6\n",
    "\n",
    "Вывод:\n",
    "Рыбы"
   ]
  },
  {
   "cell_type": "code",
   "execution_count": null,
   "metadata": {},
   "outputs": [],
   "source": [
    "month = int(input('Введите месяц рождения '))\n",
    "date = int(input('Введите дату рождения '))\n",
    "\n",
    "if month == 1 and 1 < date <= 19:\n",
    "    print('Козерог')\n",
    "elif month == 1 and 20 < date <= 31: \n",
    "    print('Водолей')\n",
    "elif month == 2 and 1 < date <= 18: \n",
    "    print('Водолей')\n",
    "elif month == 2 and 19 < date <= 29: \n",
    "    print('Рыбы')\n",
    "elif month == 3 and 1 < date <= 20: \n",
    "    print('Рыбы')\n",
    "elif month == 3 and 21 < date <= 31: \n",
    "    print('Овен')\n",
    "elif month == 4 and 1 < date <= 20: \n",
    "    print('Овен')\n",
    "elif month == 4 and 21 < date <= 30: \n",
    "    print('Телец')\n",
    "elif month == 5 and 1 < date <= 20: \n",
    "    print('Телец')\n",
    "elif month == 5 and 21 < date <= 31: \n",
    "    print('Близнецы')\n",
    "elif month == 6 and 1 < date <= 20: \n",
    "    print('Близнецы')\n",
    "elif month == 6 and 21 < date <= 30: \n",
    "    print('Рак')\n",
    "elif month == 7 and 1 < date <= 22: \n",
    "    print('Рак')\n",
    "elif month == 7 and 23 < date <= 31: \n",
    "    print('Лев')\n",
    "elif month == 8 and 1 < date <= 22: \n",
    "    print('Лев')\n",
    "elif month == 8 and 23 < date <= 31: \n",
    "    print('Дева')\n",
    "elif month == 9 and 1 < date <= 23: \n",
    "    print('Дева')\n",
    "elif month == 9 and 24 < date <= 30: \n",
    "    print('Весы')\n",
    "elif month == 10 and 1 < date <= 23: \n",
    "    print('Весы')\n",
    "elif month == 10 and 24 < date <= 31: \n",
    "    print('Скорпион')\n",
    "elif month == 11 and 1 < date <= 21: \n",
    "    print('Скорпион')\n",
    "elif month == 11 and 22 < date <= 30: \n",
    "    print('Стрелец')\n",
    "elif month == 12 and 1 < date <= 21: \n",
    "    print('Стрелец')\n",
    "elif month == 12 and 22 < date <= 31: \n",
    "    print('Козерог')"
   ]
  },
  {
   "cell_type": "markdown",
   "metadata": {},
   "source": [
    "**Задание 4**. Нужно разработать приложение для финансового планирования.\n",
    "Приложение учитывает сколько уходит на ипотеку, \"на жизнь\" и сколько нужно отложить на пенсию.\n",
    "Пользователь вводит:\n",
    "- заработанную плату в месяц.\n",
    "- сколько процентов от ЗП уходит на ипотеку.\n",
    "- сколько процентов от ЗП уходит \"на жизнь\".\n",
    "- сколько раз приходит премия в год.\n",
    "\n",
    "Остальная часть заработанной платы откладывается на пенсию.\n",
    "\n",
    "Также пользователю приходит премия в размере зарплаты, от которой половина уходит на отпуск, а вторая половина откладывается.\n",
    "\n",
    "Программа должна учитывать сколько премий было в год.\n",
    "\n",
    "Нужно вывести сколько денег тратит пользователь на ипотеку и сколько он накопит за год.\n",
    "\n",
    "Пример:\n",
    "\n",
    "Введите заработанную плату в месяц: 100000\n",
    "\n",
    "Введите сколько процентов уходит на ипотеку: 30\n",
    "\n",
    "Введите сколько процентов уходит на жизнь: 50\n",
    "\n",
    "Введите количество премий за год: 2\n",
    "\n",
    "Вывод:\n",
    "На ипотеку было потрачено: 360000 рублей\n",
    "Было накоплено: 340000 рублей"
   ]
  },
  {
   "cell_type": "code",
   "execution_count": 6,
   "metadata": {},
   "outputs": [
    {
     "name": "stdout",
     "output_type": "stream",
     "text": [
      "Введите заработанную плату в месяц 1000000\n",
      "Введите сколько процентов уходит на ипотеку: 30\n",
      "Введите сколько процентов уходит на жизнь: 50\n",
      "Введите количество премий за год: 2\n",
      "На ипотеку было потрачено:   3600000 рублей\n",
      "Было накоплено  3400000 рублей\n"
     ]
    }
   ],
   "source": [
    "a = int(input('Введите заработанную плату в месяц '))\n",
    "b = a * 12 \n",
    "c = int(input('Введите сколько процентов уходит на ипотеку: '))\n",
    "d = int(b * c / 100)\n",
    "e = int(input('Введите сколько процентов уходит на жизнь: '))\n",
    "f = b * e / 100\n",
    "h = int(input('Введите количество премий за год: '))\n",
    "i = a * h\n",
    "g = int(b - d - f + i/2)\n",
    "\n",
    "print ('На ипотеку было потрачено:  ', d, 'рублей')\n",
    "\n",
    "print ('Было накоплено ', g, 'рублей')"
   ]
  }
 ],
 "metadata": {
  "kernelspec": {
   "display_name": "Python 3",
   "language": "python",
   "name": "python3"
  },
  "language_info": {
   "codemirror_mode": {
    "name": "ipython",
    "version": 3
   },
   "file_extension": ".py",
   "mimetype": "text/x-python",
   "name": "python",
   "nbconvert_exporter": "python",
   "pygments_lexer": "ipython3",
   "version": "3.7.4"
  }
 },
 "nbformat": 4,
 "nbformat_minor": 2
}
