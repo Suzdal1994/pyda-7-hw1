{
 "cells": [
  {
   "cell_type": "markdown",
   "metadata": {},
   "source": [
    "Задание 1\n",
    "\n",
    "Напишите функцию date_range, которая возвращает список дней между датами start_date и end_date. \n",
    "Даты должны вводиться в формате YYYY-MM-DD."
   ]
  },
  {
   "cell_type": "code",
   "execution_count": 1,
   "metadata": {},
   "outputs": [],
   "source": [
    "from datetime import datetime"
   ]
  },
  {
   "cell_type": "code",
   "execution_count": 2,
   "metadata": {},
   "outputs": [],
   "source": [
    "from datetime import timedelta"
   ]
  },
  {
   "cell_type": "code",
   "execution_count": 3,
   "metadata": {},
   "outputs": [],
   "source": [
    "import re"
   ]
  },
  {
   "cell_type": "code",
   "execution_count": 9,
   "metadata": {},
   "outputs": [
    {
     "name": "stdout",
     "output_type": "stream",
     "text": [
      "Введите начальную дату 2019-01-15\n",
      "Введите конечную дату 2019-01-20\n",
      "2019-01-15\n",
      "2019-01-16\n",
      "2019-01-17\n",
      "2019-01-18\n",
      "2019-01-19\n",
      "2019-01-20\n"
     ]
    }
   ],
   "source": [
    "def main ():\n",
    "    start_date = input('Введите начальную дату ')\n",
    "    end_date = input('Введите конечную дату ')\n",
    "    start_date_datetime = datetime.strptime(start_date, '%Y-%m-%d')\n",
    "    end_date_datetime = datetime.strptime(end_date, '%Y-%m-%d')\n",
    "    current_dt = start_date_datetime\n",
    "    while current_dt <= end_date_datetime:\n",
    "        print(current_dt.strftime('%Y-%m-%d'))\n",
    "        current_dt += timedelta(days=1)\n",
    "    \n",
    "main()"
   ]
  },
  {
   "cell_type": "markdown",
   "metadata": {},
   "source": [
    "Задание 2\n",
    "\n",
    "Дополните функцию из первого задания проверкой на корректность дат. В случае неверного формата или если start_date > end_date должен возвращаться пустой список.\n"
   ]
  },
  {
   "cell_type": "code",
   "execution_count": 70,
   "metadata": {},
   "outputs": [
    {
     "name": "stdout",
     "output_type": "stream",
     "text": [
      "Введите начальную дату 2019-12-04\n",
      "Введите конечную дату 2019-12-06\n",
      "2019-12-04\n",
      "2019-12-05\n",
      "2019-12-06\n"
     ]
    }
   ],
   "source": [
    "def main_2 ():\n",
    "    try:\n",
    "        start_date = input('Введите начальную дату ')\n",
    "        end_date = input('Введите конечную дату ')\n",
    "        start_date_datetime = datetime.strptime(start_date, '%Y-%m-%d')\n",
    "        end_date_datetime = datetime.strptime(end_date, '%Y-%m-%d')\n",
    "        current_dt = start_date_datetime\n",
    "        new_list = []\n",
    "        if re.match (regex_date, start_date) and re.match (regex_date, end_date):\n",
    "            if end_date > start_date:\n",
    "                while current_dt <= end_date_datetime:\n",
    "                    print(current_dt.strftime('%Y-%m-%d'))\n",
    "                    current_dt += timedelta(days=1)\n",
    "            else:\n",
    "                print(new_list)\n",
    "        else: \n",
    "            print(new_list)\n",
    "    except:\n",
    "        print('Введен неверный формат даты')\n",
    "main_2()"
   ]
  },
  {
   "cell_type": "markdown",
   "metadata": {},
   "source": [
    "Задание 3\n",
    "\n",
    "Дан поток дат в формате YYYY-MM-DD, в которых встречаются некорректные значения:\n",
    "\n",
    "stream = ['2018-04-02', '2018-02-29', '2018-19-02']\n",
    "\n",
    "Напишите функцию, которая проверяет эти даты на корректность. Т. е. для каждой даты возвращает True (дата корректна) или False (некорректная дата). "
   ]
  },
  {
   "cell_type": "code",
   "execution_count": 91,
   "metadata": {},
   "outputs": [],
   "source": [
    "stream = ['2018-04-02', '2018-02-15','2018-19-02', '2018-15-16', '2018-19-20', '2018-01-01']"
   ]
  },
  {
   "cell_type": "code",
   "execution_count": 92,
   "metadata": {},
   "outputs": [
    {
     "name": "stdout",
     "output_type": "stream",
     "text": [
      "2018-04-02 True\n",
      "2018-02-15 True\n",
      "2018-19-02 False\n",
      "2018-15-16 False\n",
      "2018-19-20 False\n",
      "2018-01-01 True\n"
     ]
    }
   ],
   "source": [
    "for x in stream:\n",
    "    try:\n",
    "        x_datetime = datetime.strptime(x, '%Y-%m-%d')\n",
    "        print(x, 'True')\n",
    "    except:\n",
    "        print('{} False'.format(x))\n",
    "    "
   ]
  },
  {
   "cell_type": "markdown",
   "metadata": {},
   "source": [
    "Задание 4 (бонусное)\n",
    "\n",
    "Ваш коллега прислал код функции:\n",
    "\n",
    "DEFAULT_USER_COUNT = 3\n",
    "\n",
    "def delete_and_return_last_user(region, default_list=['A100', 'A101', 'A102']):\n",
    "\n",
    "\"\"\"\n",
    "\n",
    "Удаляет из списка default_list последнего пользователя \n",
    "\n",
    "и возвращает ID нового последнего пользователя.\n",
    "\n",
    "\"\"\"\n",
    "\n",
    "element_to_delete = default_list[-1]\n",
    "\n",
    "default_list.remove(element_to_delete)\n",
    "\n",
    "return default_list[DEFAULT_USER_COUNT-2]\n",
    "\n",
    "При однократном вызове этой функции все работает корректно:\n",
    "\n",
    "delete_and_return_last_user(1)\n",
    "\n",
    "'A101'\n",
    "\n",
    "Однако, при повторном вызове получается ошибка IndexError: list index out of range.\n",
    "\n",
    "Задание:\n",
    "\n",
    "1. Что значит ошибка list index out of range?\n",
    "\n",
    "2. Почему при первом запуске функция работает корректно, а при втором - нет?"
   ]
  },
  {
   "cell_type": "markdown",
   "metadata": {},
   "source": [
    "1. Ошибка list index out of range означает, что указанный в формуле индекс, отсутсвует в указанном списке. Например если для списка из 3 элементов указать индекс 3, или -4, выйдет эта ошибка, потому что такого индекса в списке нет. \n",
    "\n",
    "2. Если я правильно понял, в указанном примере индекс в return является расчетной величиной и считается как, DEFAULT_USER_COUNT минус 2. То есть это значение всегда равно 1. Во время первой интерации исходный список состоял из 3 элементов, то есть имел индексы 0, 1 и 2. В ходе выполнения функции последний элемент был удален и список стал состоять из двух элементов, то есть индексы 0 и 1.  Соответвенно, для return в первой итерации 1 был в полученном в ходе выполнения функции списке.\n",
    "Во время начала второй итерации список состоял уже из двух элементов, а в ходе выполнения функции сократился до 1 элентов, то есть только до индекса 0. Соотвественно, индекс 1 стал находится уже за пределами списка, что и вызвало ошибку. \n",
    "\n",
    "P.S. Ниже переписал немного функцию, чтобы она работала. "
   ]
  },
  {
   "cell_type": "code",
   "execution_count": 136,
   "metadata": {},
   "outputs": [],
   "source": [
    "default_list=['A100', 'A101', 'A102']"
   ]
  },
  {
   "cell_type": "code",
   "execution_count": 137,
   "metadata": {},
   "outputs": [
    {
     "data": {
      "text/plain": [
       "'A101'"
      ]
     },
     "execution_count": 137,
     "metadata": {},
     "output_type": "execute_result"
    }
   ],
   "source": [
    "\n",
    "def delete_and_return_last_user():   \n",
    "    element_to_delete = default_list[-1]\n",
    "    default_list.remove(element_to_delete)\n",
    "    return default_list[-1]\n",
    "\n",
    "#При однократном вызове этой функции все работает корректно:\n",
    "\n",
    "delete_and_return_last_user()"
   ]
  }
 ],
 "metadata": {
  "kernelspec": {
   "display_name": "Python 3",
   "language": "python",
   "name": "python3"
  },
  "language_info": {
   "codemirror_mode": {
    "name": "ipython",
    "version": 3
   },
   "file_extension": ".py",
   "mimetype": "text/x-python",
   "name": "python",
   "nbconvert_exporter": "python",
   "pygments_lexer": "ipython3",
   "version": "3.7.4"
  }
 },
 "nbformat": 4,
 "nbformat_minor": 2
}
