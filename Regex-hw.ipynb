{
 "cells": [
  {
   "cell_type": "markdown",
   "metadata": {},
   "source": [
    "# Домашнее задание к лекции \"Регулярные выражения\"\n",
    "Для зачета необходимо выполнить 4 задания.  \n",
    "Для зачета с отличием – все."
   ]
  },
  {
   "cell_type": "markdown",
   "metadata": {},
   "source": [
    "## Задание 1"
   ]
  },
  {
   "cell_type": "markdown",
   "metadata": {},
   "source": [
    "Напишите функцию, которая принимает на вход строку и проверяет является ли она валидным транспортным номером. Если да, то функция должна возвращать отдельно номер и регион."
   ]
  },
  {
   "cell_type": "code",
   "execution_count": 2,
   "metadata": {},
   "outputs": [],
   "source": [
    "import re"
   ]
  },
  {
   "cell_type": "code",
   "execution_count": 68,
   "metadata": {},
   "outputs": [
    {
     "name": "stdout",
     "output_type": "stream",
     "text": [
      "Введите номер у486маRUS125\n",
      "Номерная чать -  486 Регион -  125\n"
     ]
    }
   ],
   "source": [
    "def main_2():\n",
    "    number = input('Введите номер ')\n",
    "\n",
    "    if re.match(r'([авекмнорстух]{1})(\\d{3})([авекмнорстух]{2})RUS(\\d{2,3})', number):\n",
    "        return print('Номерная чать - ',number[1:4],'Регион - ',number[9:])\n",
    "    else:\n",
    "        print('Проверьте корректность введения номера. Номер должен быть записан в формате')\n",
    "        print('\"Русская строчная буква\" \"3 цифры\" \"Две русских строчных буквы\" \"RUS\" \"Две или три цифры\"')\n",
    "    return\n",
    "\n",
    "main_2()"
   ]
  },
  {
   "cell_type": "markdown",
   "metadata": {},
   "source": [
    "## Задание 2"
   ]
  },
  {
   "cell_type": "markdown",
   "metadata": {},
   "source": [
    "Напишите функцию, которая проверяет e-mail адрес на валидность по стандарту RFC822: http://www.w3.org/Protocols/rfc822/. Для этого постарайтесь написать (в крайнем случае найти) самый полный шаблон для проверки e-mail адресов через регулярное выражение. Разберитесь и напишите примеры, какие ваш шаблон может не охватить."
   ]
  },
  {
   "cell_type": "code",
   "execution_count": 73,
   "metadata": {},
   "outputs": [
    {
     "name": "stdout",
     "output_type": "stream",
     "text": [
      "Введите электронный адрес fczenitfan94@gmail.com\n",
      "The email fczenitfan94@gmail.com is a valid email\n"
     ]
    }
   ],
   "source": [
    "emails = input('Введите электронный адрес ')\n",
    "regex_emails = '([A-Za-z0-9-_\\.]+@[a-zA-Z0-9_]+\\.[a-zA-z]{2,99999})'\n",
    "if re.match(regex_emails, emails):\n",
    "    print('The email {} is a valid email'.format(emails))\n",
    "else:\n",
    "    print('The email {} is invalid'.format(emails))  "
   ]
  },
  {
   "cell_type": "markdown",
   "metadata": {},
   "source": [
    "## Задание 3\n",
    "Напишите функцию, которая будет удалять все последовательные повторы слов из заданной строки."
   ]
  },
  {
   "cell_type": "code",
   "execution_count": 57,
   "metadata": {},
   "outputs": [
    {
     "name": "stdout",
     "output_type": "stream",
     "text": [
      "Челси сыграли в ничью с Ньюкасл\n"
     ]
    }
   ],
   "source": [
    "def main ():\n",
    "    string = 'Челси Челси сыграли в ничью ничью с Ньюкасл Ньюкасл'\n",
    "    new_string = re.findall(r'(\\w+)', string)\n",
    "    new_string_1 = []\n",
    "    for x in new_string:\n",
    "        if x not in new_string_1:\n",
    "            new_string_1.append(x)\n",
    "    return print(' '.join(new_string_1))\n",
    "main()"
   ]
  },
  {
   "cell_type": "markdown",
   "metadata": {},
   "source": [
    "## Задание 4\n",
    "Напишите функцию, которая будет проверять номер сотового телефона на валидность, если он валиден, то переводить его в формат:   \n",
    "+7(xxx)-xxx-xx-xx  \n",
    "Постарайтесь предусмотреть как можно больше адекватных форматов изначального ввода номера.\n",
    "Примеры правильных и неправильных форматов:\n",
    "- +7 955 555-55-55;\n",
    "- 955555555;\n",
    "- 8(955)555-55-55;\n",
    "- +7 955 555 55 55;\n",
    "- 7(955) 555-55-55;\n",
    "- +7 955+555+55+55."
   ]
  },
  {
   "cell_type": "code",
   "execution_count": 67,
   "metadata": {},
   "outputs": [
    {
     "name": "stdout",
     "output_type": "stream",
     "text": [
      "Введите номер телефона 8(955)555-55-55\n",
      "+7(955)-555-55-55\n"
     ]
    }
   ],
   "source": [
    "def main_1():\n",
    "    number = input('Введите номер телефона ')\n",
    "    number_new = re.sub(r'\\D', '', number)\n",
    "    number_new_1 = number_new[-10:]\n",
    "\n",
    "    if re.match(r'^((8|\\+7)[\\- ]?)?(\\(?\\d{3}\\)?[\\- ]?)?[\\d\\- ]{7,10}$', number):\n",
    "        return print('+7(',number_new_1[0:3],')-',number_new_1[3:6],'-',number_new_1[6:8],'-',number_new_1[8:],sep= '')\n",
    "    \n",
    "main_1()"
   ]
  },
  {
   "cell_type": "code",
   "execution_count": null,
   "metadata": {},
   "outputs": [],
   "source": []
  }
 ],
 "metadata": {
  "kernelspec": {
   "display_name": "Python 3",
   "language": "python",
   "name": "python3"
  },
  "language_info": {
   "codemirror_mode": {
    "name": "ipython",
    "version": 3
   },
   "file_extension": ".py",
   "mimetype": "text/x-python",
   "name": "python",
   "nbconvert_exporter": "python",
   "pygments_lexer": "ipython3",
   "version": "3.7.4"
  }
 },
 "nbformat": 4,
 "nbformat_minor": 2
}
