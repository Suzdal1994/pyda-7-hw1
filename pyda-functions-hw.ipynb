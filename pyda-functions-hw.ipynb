{
 "cells": [
  {
   "cell_type": "markdown",
   "metadata": {},
   "source": [
    "## Задание 1"
   ]
  },
  {
   "cell_type": "markdown",
   "metadata": {},
   "source": [
    "Дан список вида:"
   ]
  },
  {
   "cell_type": "code",
   "execution_count": 196,
   "metadata": {},
   "outputs": [],
   "source": [
    "data = [\n",
    "    [13, 25, 23, 34, 7],\n",
    "    [45, 32, 44, 47, 8],\n",
    "    [12, 33, 23, 95, 9],\n",
    "    [13, 53, 34, 35, 10],\n",
    "    [13, 53, 34, 35, 11]\n",
    "]"
   ]
  },
  {
   "cell_type": "markdown",
   "metadata": {},
   "source": [
    "Напишите функцию, которая возвращает сумму элементов на диагонали. Т. е. 13+32+23+35.  \n",
    "Список может быть любой длины, но всегда является \"квадратным\" (количество элементов во вложенных списках равно их количеству)."
   ]
  },
  {
   "cell_type": "code",
   "execution_count": 195,
   "metadata": {},
   "outputs": [
    {
     "name": "stdout",
     "output_type": "stream",
     "text": [
      "114\n"
     ]
    }
   ],
   "source": [
    "\n",
    "def def1 ():\n",
    "    y = -1\n",
    "    i = []\n",
    "    while y < (len (data)-1):\n",
    "        y += 1\n",
    "        i.append(data [y][y])\n",
    "    print(sum(i))\n",
    "    return \n",
    "\n",
    "def1()"
   ]
  },
  {
   "cell_type": "markdown",
   "metadata": {},
   "source": [
    "## Задание 2"
   ]
  },
  {
   "cell_type": "markdown",
   "metadata": {},
   "source": [
    "Напишите функцию, возвращающую сумму первых n чисел Фибоначчи (для этого вам может понадобится ознакомиться с рекурсией)."
   ]
  },
  {
   "cell_type": "code",
   "execution_count": 64,
   "metadata": {},
   "outputs": [
    {
     "name": "stdout",
     "output_type": "stream",
     "text": [
      "Введите число 9\n",
      "[0, 1, 1, 2, 3, 5, 8, 13, 21]\n",
      "54\n"
     ]
    }
   ],
   "source": [
    "num = int(input('Введите число '))\n",
    "\n",
    "def fib(n):\n",
    "    if n < 2:\n",
    "        return n\n",
    "    return fib(n-1) + fib(n-2)\n",
    "\n",
    "k = [fib(n) for n in range(num)]\n",
    "print(k)\n",
    "print(sum(k))"
   ]
  },
  {
   "cell_type": "markdown",
   "metadata": {},
   "source": [
    "## Задание 3\n"
   ]
  },
  {
   "cell_type": "markdown",
   "metadata": {},
   "source": [
    "Напишите функцию, преобразующую произвольный список вида ['2018-01-01', 'yandex', 'cpc', 100] (он может быть любой длины) в словарь {'2018-01-01': {'yandex': {'cpc': 100}}}"
   ]
  },
  {
   "cell_type": "code",
   "execution_count": 33,
   "metadata": {},
   "outputs": [],
   "source": [
    "data1 = ['2018-01-01', 'yandex', 'cpc', 100]"
   ]
  },
  {
   "cell_type": "code",
   "execution_count": 34,
   "metadata": {},
   "outputs": [
    {
     "name": "stdout",
     "output_type": "stream",
     "text": [
      "{'2018-01-01': {'yandex': {'cpc': 100}}}\n"
     ]
    }
   ],
   "source": [
    "def def2(a:list) -> dict:\n",
    "    if len(a)>2:\n",
    "        return {a.pop(0):def2(a)}\n",
    "    else:\n",
    "        return {a.pop(0):a[0]}    \n",
    "print (def2(data1))"
   ]
  },
  {
   "cell_type": "markdown",
   "metadata": {},
   "source": [
    "## Задание 4"
   ]
  },
  {
   "cell_type": "markdown",
   "metadata": {},
   "source": [
    "Вы работаете секретарем и вам постоянно приходят различные документы. Вы должны быть очень внимательны, чтобы не потерять ни один документ. Каталог документов хранится в следующем виде:"
   ]
  },
  {
   "cell_type": "code",
   "execution_count": 30,
   "metadata": {},
   "outputs": [],
   "source": [
    "documents = [\n",
    "    {'type': 'passport', 'number': '2207 876234', 'name': 'Василий Гупкин'},\n",
    "    {'type': 'invoice', 'number': '11-2', 'name': 'Геннадий Покемонов'},\n",
    "    {'type': 'insurance', 'number': '10006', 'name': 'Аристарх Павлов'}\n",
    "]"
   ]
  },
  {
   "cell_type": "markdown",
   "metadata": {},
   "source": [
    "Перечень полок, на которых находятся документы хранится в следующем виде:"
   ]
  },
  {
   "cell_type": "code",
   "execution_count": 31,
   "metadata": {},
   "outputs": [],
   "source": [
    "directories = {\n",
    "    '1': ['2207 876234', '11-2', '5455 028765'],\n",
    "    '2': ['10006', '5400 028765', '5455 002299'],\n",
    "    '3': []\n",
    "}"
   ]
  },
  {
   "cell_type": "markdown",
   "metadata": {},
   "source": [
    "Необходимо реализовать пользовательские команды (внимание! это не название функций, которые должны быть выразительными, а команды, которые вводит пользователь, чтобы получить необходимый результат):\n",
    "  \n",
    "- p – people – команда, которая спросит номер документа и выведет имя человека, которому он принадлежит;  \n",
    "- s – shelf – команда, которая спросит номер документа и выведет номер полки, на которой он находится  \n",
    "Правильно обработайте ситуацию, когда пользователь будет вводить несуществующий документ.\n",
    "- l – list – команда, которая выведет список всех документов в формате   \n",
    "**passport \"2207 876234\" \"Василий Гупкин\"**  \n",
    "- as – add shelf – команда, которая спросит номер новой полки и добавит ее в перечень\n",
    "- d – delete – команда, которая спросит номер документа и удалит его из каталога и из перечня полок. Предусмотрите сценарий, когда пользователь вводит несуществующий документ;  \n",
    "- m – move – команда, которая спросит номер документа и целевую полку и переместит его с текущей полки на целевую. Корректно обработайте кейсы, когда пользователь пытается переместить несуществующий документ или переместить документ на несуществующую полку;  \n",
    "- a – add – команда, которая добавит новый документ в каталог и в перечень полок, спросив его номер, тип, имя владельца и номер полки, на котором он будет храниться."
   ]
  },
  {
   "cell_type": "code",
   "execution_count": 70,
   "metadata": {},
   "outputs": [
    {
     "name": "stdout",
     "output_type": "stream",
     "text": [
      "Просьба отвечать на вопросы только \"Да\" или \"Нет\"\n",
      "Вы знаете номер документа и хотите узнать кому он принадлежит?Нет\n",
      "Вы знаете номер документа и хотите узнать на какой полке он находится?Нет\n",
      "Вы хотите вывести список всех документов?Да\n",
      "**passport \"2207 876234\" \"Василий Гупкин\"**\n",
      "**invoice \"11-2\" \"Геннадий Покемонов\"**\n",
      "**insurance \"10006\" \"Аристарх Павлов\"**\n"
     ]
    }
   ],
   "source": [
    "print('Просьба отвечать на вопросы только \"Да\" или \"Нет\"')\n",
    "main_main()"
   ]
  },
  {
   "cell_type": "code",
   "execution_count": 69,
   "metadata": {},
   "outputs": [],
   "source": [
    "\n",
    "def main_main():\n",
    "    a = str(input('Вы знаете номер документа и хотите узнать кому он принадлежит?'))\n",
    "    if a == 'Да':\n",
    "        people()\n",
    "    if a == 'Нет':\n",
    "        b = str(input('Вы знаете номер документа и хотите узнать на какой полке он находится?'))\n",
    "        if b == 'Да':\n",
    "            shelf()\n",
    "        if b == 'Нет':\n",
    "            e = str(input('Вы хотите вывести список всех документов?'))\n",
    "            if e == 'Да':\n",
    "                l()\n",
    "            if e == 'Нет':\n",
    "                r = str(input('Вы хотите добавить новую полку в перечень?'))\n",
    "                if r == 'Да':\n",
    "                    add_shelf ()\n",
    "                if r == 'Нет':\n",
    "                    u = str(input('Вы знаете номер документа и хотите удалить его из каталога и перечня полок?'))\n",
    "                    if u == 'Да':\n",
    "                        del_main()\n",
    "                    if r == 'Нет':\n",
    "                        p = str(input('Вы знаете номер документа и хотите переместить его с одной полки на дургую?'))\n",
    "                        if p == 'Да':\n",
    "                            move()\n",
    "                        if p == 'Нет':\n",
    "                            o = str(input('Вы знаете номер документа и хотите переместить его с одной полки на дургую?'))\n",
    "                            if o == 'Да':\n",
    "                                add_main()"
   ]
  },
  {
   "cell_type": "code",
   "execution_count": 64,
   "metadata": {},
   "outputs": [],
   "source": [
    "def people():\n",
    "    doc_number = input('Введите номер документа ')    \n",
    "    for documents_dict in documents:\n",
    "        if documents_dict.get('number') == doc_number:\n",
    "            print (documents_dict.get('name'))\n",
    "            return\n",
    "    else:\n",
    "        print('Номер документа отсутствует')\n",
    "    return\n"
   ]
  },
  {
   "cell_type": "code",
   "execution_count": 46,
   "metadata": {},
   "outputs": [],
   "source": [
    "def shelf ():\n",
    "    doc_number = str(input('Введите номер документа '))\n",
    "    for keys, value in directories.items():\n",
    "        for x in value:\n",
    "            if doc_number == x:\n",
    "                print('Номер полки - ', keys)\n",
    "                return\n",
    "    else:\n",
    "        print('Номер документа не найден')\n",
    "    return \n"
   ]
  },
  {
   "cell_type": "code",
   "execution_count": 49,
   "metadata": {},
   "outputs": [],
   "source": [
    "def l():\n",
    "    for documents_dict in documents:\n",
    "        print ('**', documents_dict.get('type'), ' \"' ,documents_dict.get('number'), '\" ', '\"', documents_dict.get('name'),'\"', '**', sep = '')\n",
    "    return\n"
   ]
  },
  {
   "cell_type": "code",
   "execution_count": 59,
   "metadata": {},
   "outputs": [],
   "source": [
    "def add_shelf ():\n",
    "    a = input('Введите номер полки ')\n",
    "    for keys in directories:\n",
    "        if a in keys:\n",
    "            print(\"Полка существует \")\n",
    "            return\n",
    "    else:\n",
    "        directories.update({a:[]})\n",
    "        print(directories)\n",
    "    return directories\n"
   ]
  },
  {
   "cell_type": "code",
   "execution_count": 61,
   "metadata": {},
   "outputs": [],
   "source": [
    "def del_main():\n",
    "    doc_number = input('Введите номер документа ')\n",
    "    for items in directories.items():\n",
    "        if doc_number in items[1]:\n",
    "            items[1].remove(doc_number)\n",
    "            print (directories)\n",
    "    for documents_dict in documents:\n",
    "        if doc_number == documents_dict.get('number'):\n",
    "            documents_dict.clear()\n",
    "            print (documents) \n",
    "            return \n",
    "    else:\n",
    "        print('Номер документа не найден')\n",
    "        return\n",
    "    \n"
   ]
  },
  {
   "cell_type": "code",
   "execution_count": 62,
   "metadata": {},
   "outputs": [],
   "source": [
    "def move():\n",
    "    doc_number = str(input('Введите номер документа '))\n",
    "    doc_number_shelf = input('Введите номер полки ')\n",
    "    for items in directories.items():\n",
    "        if doc_number in items[1]:\n",
    "            items[1].remove(doc_number)\n",
    "            directories.get(doc_number_shelf).append(doc_number)\n",
    "            print(directories)\n",
    "            return\n",
    "    else:\n",
    "        print('Номер документа не существует')\n",
    "    return\n",
    "\n"
   ]
  },
  {
   "cell_type": "code",
   "execution_count": 63,
   "metadata": {
    "scrolled": true
   },
   "outputs": [],
   "source": [
    "def add_main():\n",
    "    doc_type = input('Введите тип документа ')\n",
    "    doc_number = input('Введите номер документа ')\n",
    "    doc_name = input('Введите ФИО ')\n",
    "    doc_number_shelf = input('Введите номер полки ')\n",
    "    a = {}\n",
    "    b = directories.get(doc_number_shelf)\n",
    "    for documents_dict in documents:\n",
    "        if documents_dict.get('number') == doc_number:\n",
    "            print ('Номер документа уже существует')\n",
    "            return\n",
    "    else:\n",
    "        a['type'] = doc_type\n",
    "        a['number'] = doc_number\n",
    "        a['name'] = doc_name\n",
    "        documents.append(a)\n",
    "        print(documents)\n",
    "    for keys in directories:\n",
    "        if doc_number_shelf in keys:\n",
    "            directories.get(doc_number_shelf).append(doc_number)\n",
    "            print(directories)\n",
    "            return\n",
    "        else:\n",
    "            directories.update({doc_number_shelf:[]})\n",
    "            directories.get(doc_number_shelf).append(doc_number)\n",
    "            print(directories)\n",
    "        return \n",
    "    return directories, documents\n"
   ]
  },
  {
   "cell_type": "code",
   "execution_count": null,
   "metadata": {},
   "outputs": [],
   "source": [
    "\n"
   ]
  },
  {
   "cell_type": "code",
   "execution_count": null,
   "metadata": {},
   "outputs": [],
   "source": []
  }
 ],
 "metadata": {
  "kernelspec": {
   "display_name": "Python 3",
   "language": "python",
   "name": "python3"
  },
  "language_info": {
   "codemirror_mode": {
    "name": "ipython",
    "version": 3
   },
   "file_extension": ".py",
   "mimetype": "text/x-python",
   "name": "python",
   "nbconvert_exporter": "python",
   "pygments_lexer": "ipython3",
   "version": "3.7.4"
  }
 },
 "nbformat": 4,
 "nbformat_minor": 2
}
