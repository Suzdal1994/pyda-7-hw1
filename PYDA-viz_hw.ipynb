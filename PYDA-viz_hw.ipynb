{
 "cells": [
  {
   "cell_type": "code",
   "execution_count": 1,
   "metadata": {},
   "outputs": [],
   "source": [
    "import pandas as pd\n",
    "import matplotlib.pyplot as plt"
   ]
  },
  {
   "cell_type": "code",
   "execution_count": 25,
   "metadata": {},
   "outputs": [
    {
     "data": {
      "text/html": [
       "<div>\n",
       "<style scoped>\n",
       "    .dataframe tbody tr th:only-of-type {\n",
       "        vertical-align: middle;\n",
       "    }\n",
       "\n",
       "    .dataframe tbody tr th {\n",
       "        vertical-align: top;\n",
       "    }\n",
       "\n",
       "    .dataframe thead th {\n",
       "        text-align: right;\n",
       "    }\n",
       "</style>\n",
       "<table border=\"1\" class=\"dataframe\">\n",
       "  <thead>\n",
       "    <tr style=\"text-align: right;\">\n",
       "      <th></th>\n",
       "      <th>Проект</th>\n",
       "      <th>Контрагент</th>\n",
       "      <th>Документ продажи</th>\n",
       "      <th>Стоимость</th>\n",
       "      <th>Себестоимость</th>\n",
       "      <th>Валовая прибыль</th>\n",
       "    </tr>\n",
       "  </thead>\n",
       "  <tbody>\n",
       "    <tr>\n",
       "      <td>0</td>\n",
       "      <td>Дашкина</td>\n",
       "      <td>Токио ООО Фэншуй (Цех Шилкинская) Чемпион</td>\n",
       "      <td>Реализация товаров и услуг М142162 от 30.12.20...</td>\n",
       "      <td>512198.62</td>\n",
       "      <td>363859.69</td>\n",
       "      <td>148338.93</td>\n",
       "    </tr>\n",
       "    <tr>\n",
       "      <td>1</td>\n",
       "      <td>Захаров</td>\n",
       "      <td>Кофе Машина ИП Голубева Т.О.  Иркутск (новая к...</td>\n",
       "      <td>Реализация товаров и услуг М120114 от 08.11.20...</td>\n",
       "      <td>353790.00</td>\n",
       "      <td>234340.50</td>\n",
       "      <td>119449.50</td>\n",
       "    </tr>\n",
       "    <tr>\n",
       "      <td>2</td>\n",
       "      <td>Дашкина</td>\n",
       "      <td>Токио ООО Фьюжн Фирсова ( 2 этаж )(компания) Хоум</td>\n",
       "      <td>Реализация товаров и услуг М141755 от 27.12.20...</td>\n",
       "      <td>302598.93</td>\n",
       "      <td>213312.46</td>\n",
       "      <td>89286.47</td>\n",
       "    </tr>\n",
       "    <tr>\n",
       "      <td>3</td>\n",
       "      <td>Перевалов В.А.</td>\n",
       "      <td>ООО Фэмели /Токио Находка</td>\n",
       "      <td>Реализация товаров и услуг М140701 от 26.12.20...</td>\n",
       "      <td>292942.03</td>\n",
       "      <td>206812.19</td>\n",
       "      <td>86129.84</td>\n",
       "    </tr>\n",
       "    <tr>\n",
       "      <td>4</td>\n",
       "      <td>Захаров</td>\n",
       "      <td>Кофе Машина ИП Голубева Т.О.  Иркутск (новая к...</td>\n",
       "      <td>Реализация товаров и услуг М103585 от 01.10.20...</td>\n",
       "      <td>306941.00</td>\n",
       "      <td>204327.78</td>\n",
       "      <td>102613.22</td>\n",
       "    </tr>\n",
       "  </tbody>\n",
       "</table>\n",
       "</div>"
      ],
      "text/plain": [
       "           Проект                                         Контрагент  \\\n",
       "0         Дашкина          Токио ООО Фэншуй (Цех Шилкинская) Чемпион   \n",
       "1         Захаров  Кофе Машина ИП Голубева Т.О.  Иркутск (новая к...   \n",
       "2         Дашкина  Токио ООО Фьюжн Фирсова ( 2 этаж )(компания) Хоум   \n",
       "3  Перевалов В.А.                          ООО Фэмели /Токио Находка   \n",
       "4         Захаров  Кофе Машина ИП Голубева Т.О.  Иркутск (новая к...   \n",
       "\n",
       "                                    Документ продажи  Стоимость  \\\n",
       "0  Реализация товаров и услуг М142162 от 30.12.20...  512198.62   \n",
       "1  Реализация товаров и услуг М120114 от 08.11.20...  353790.00   \n",
       "2  Реализация товаров и услуг М141755 от 27.12.20...  302598.93   \n",
       "3  Реализация товаров и услуг М140701 от 26.12.20...  292942.03   \n",
       "4  Реализация товаров и услуг М103585 от 01.10.20...  306941.00   \n",
       "\n",
       "   Себестоимость  Валовая прибыль  \n",
       "0      363859.69        148338.93  \n",
       "1      234340.50        119449.50  \n",
       "2      213312.46         89286.47  \n",
       "3      206812.19         86129.84  \n",
       "4      204327.78        102613.22  "
      ]
     },
     "execution_count": 25,
     "metadata": {},
     "output_type": "execute_result"
    }
   ],
   "source": [
    "data = pd.read_excel('data.xlsx')\n",
    "data = data.dropna()\n",
    "data.head()"
   ]
  },
  {
   "cell_type": "code",
   "execution_count": 26,
   "metadata": {},
   "outputs": [],
   "source": [
    "data['Стоимость'] = data.Стоимость.astype('int64')\n",
    "data['Себестоимость'] = data.Себестоимость.astype('int64')"
   ]
  },
  {
   "cell_type": "code",
   "execution_count": 27,
   "metadata": {},
   "outputs": [
    {
     "data": {
      "text/html": [
       "<div>\n",
       "<style scoped>\n",
       "    .dataframe tbody tr th:only-of-type {\n",
       "        vertical-align: middle;\n",
       "    }\n",
       "\n",
       "    .dataframe tbody tr th {\n",
       "        vertical-align: top;\n",
       "    }\n",
       "\n",
       "    .dataframe thead th {\n",
       "        text-align: right;\n",
       "    }\n",
       "</style>\n",
       "<table border=\"1\" class=\"dataframe\">\n",
       "  <thead>\n",
       "    <tr style=\"text-align: right;\">\n",
       "      <th></th>\n",
       "      <th>Стоимость</th>\n",
       "    </tr>\n",
       "    <tr>\n",
       "      <th>Проект</th>\n",
       "      <th></th>\n",
       "    </tr>\n",
       "  </thead>\n",
       "  <tbody>\n",
       "    <tr>\n",
       "      <td>Дашкина</td>\n",
       "      <td>118425108</td>\n",
       "    </tr>\n",
       "    <tr>\n",
       "      <td>Захаров</td>\n",
       "      <td>113632830</td>\n",
       "    </tr>\n",
       "    <tr>\n",
       "      <td>Буслаева</td>\n",
       "      <td>50609725</td>\n",
       "    </tr>\n",
       "    <tr>\n",
       "      <td>Книга</td>\n",
       "      <td>44039792</td>\n",
       "    </tr>\n",
       "    <tr>\n",
       "      <td>Перевалов В.А.</td>\n",
       "      <td>33283179</td>\n",
       "    </tr>\n",
       "    <tr>\n",
       "      <td>Медведкова</td>\n",
       "      <td>31278122</td>\n",
       "    </tr>\n",
       "    <tr>\n",
       "      <td>Камшилова</td>\n",
       "      <td>26488082</td>\n",
       "    </tr>\n",
       "    <tr>\n",
       "      <td>Хамидов</td>\n",
       "      <td>24279059</td>\n",
       "    </tr>\n",
       "    <tr>\n",
       "      <td>Гаврилков</td>\n",
       "      <td>21482491</td>\n",
       "    </tr>\n",
       "    <tr>\n",
       "      <td>Остапенко</td>\n",
       "      <td>21035547</td>\n",
       "    </tr>\n",
       "    <tr>\n",
       "      <td>Салков</td>\n",
       "      <td>15160641</td>\n",
       "    </tr>\n",
       "    <tr>\n",
       "      <td>Потапенко А.Л.</td>\n",
       "      <td>12911398</td>\n",
       "    </tr>\n",
       "    <tr>\n",
       "      <td>Мурый</td>\n",
       "      <td>70278</td>\n",
       "    </tr>\n",
       "  </tbody>\n",
       "</table>\n",
       "</div>"
      ],
      "text/plain": [
       "                Стоимость\n",
       "Проект                   \n",
       "Дашкина         118425108\n",
       "Захаров         113632830\n",
       "Буслаева         50609725\n",
       "Книга            44039792\n",
       "Перевалов В.А.   33283179\n",
       "Медведкова       31278122\n",
       "Камшилова        26488082\n",
       "Хамидов          24279059\n",
       "Гаврилков        21482491\n",
       "Остапенко        21035547\n",
       "Салков           15160641\n",
       "Потапенко А.Л.   12911398\n",
       "Мурый               70278"
      ]
     },
     "execution_count": 27,
     "metadata": {},
     "output_type": "execute_result"
    }
   ],
   "source": [
    "top_salesman = data.groupby('Проект')[['Стоимость']].sum()\\\n",
    "    .sort_values('Стоимость', ascending=False)\n",
    "\n",
    "top_salesman"
   ]
  },
  {
   "cell_type": "code",
   "execution_count": 28,
   "metadata": {},
   "outputs": [
    {
     "data": {
      "text/html": [
       "<style  type=\"text/css\" >\n",
       "    #T_173c726e_4d95_11ea_9855_f8633faa6bc5row0_col0 {\n",
       "            width:  10em;\n",
       "             height:  80%;\n",
       "            background:  linear-gradient(90deg,#d65f5f 100.0%, transparent 100.0%);\n",
       "        }    #T_173c726e_4d95_11ea_9855_f8633faa6bc5row1_col0 {\n",
       "            width:  10em;\n",
       "             height:  80%;\n",
       "            background:  linear-gradient(90deg,#d65f5f 96.0%, transparent 96.0%);\n",
       "        }    #T_173c726e_4d95_11ea_9855_f8633faa6bc5row2_col0 {\n",
       "            width:  10em;\n",
       "             height:  80%;\n",
       "            background:  linear-gradient(90deg,#d65f5f 42.7%, transparent 42.7%);\n",
       "        }    #T_173c726e_4d95_11ea_9855_f8633faa6bc5row3_col0 {\n",
       "            width:  10em;\n",
       "             height:  80%;\n",
       "            background:  linear-gradient(90deg,#d65f5f 37.2%, transparent 37.2%);\n",
       "        }    #T_173c726e_4d95_11ea_9855_f8633faa6bc5row4_col0 {\n",
       "            width:  10em;\n",
       "             height:  80%;\n",
       "            background:  linear-gradient(90deg,#d65f5f 28.1%, transparent 28.1%);\n",
       "        }    #T_173c726e_4d95_11ea_9855_f8633faa6bc5row5_col0 {\n",
       "            width:  10em;\n",
       "             height:  80%;\n",
       "            background:  linear-gradient(90deg,#d65f5f 26.4%, transparent 26.4%);\n",
       "        }    #T_173c726e_4d95_11ea_9855_f8633faa6bc5row6_col0 {\n",
       "            width:  10em;\n",
       "             height:  80%;\n",
       "            background:  linear-gradient(90deg,#d65f5f 22.3%, transparent 22.3%);\n",
       "        }    #T_173c726e_4d95_11ea_9855_f8633faa6bc5row7_col0 {\n",
       "            width:  10em;\n",
       "             height:  80%;\n",
       "            background:  linear-gradient(90deg,#d65f5f 20.5%, transparent 20.5%);\n",
       "        }    #T_173c726e_4d95_11ea_9855_f8633faa6bc5row8_col0 {\n",
       "            width:  10em;\n",
       "             height:  80%;\n",
       "            background:  linear-gradient(90deg,#d65f5f 18.1%, transparent 18.1%);\n",
       "        }    #T_173c726e_4d95_11ea_9855_f8633faa6bc5row9_col0 {\n",
       "            width:  10em;\n",
       "             height:  80%;\n",
       "            background:  linear-gradient(90deg,#d65f5f 17.7%, transparent 17.7%);\n",
       "        }    #T_173c726e_4d95_11ea_9855_f8633faa6bc5row10_col0 {\n",
       "            width:  10em;\n",
       "             height:  80%;\n",
       "            background:  linear-gradient(90deg,#d65f5f 12.8%, transparent 12.8%);\n",
       "        }    #T_173c726e_4d95_11ea_9855_f8633faa6bc5row11_col0 {\n",
       "            width:  10em;\n",
       "             height:  80%;\n",
       "            background:  linear-gradient(90deg,#d65f5f 10.8%, transparent 10.8%);\n",
       "        }    #T_173c726e_4d95_11ea_9855_f8633faa6bc5row12_col0 {\n",
       "            width:  10em;\n",
       "             height:  80%;\n",
       "        }</style><table id=\"T_173c726e_4d95_11ea_9855_f8633faa6bc5\" ><thead>    <tr>        <th class=\"blank level0\" ></th>        <th class=\"col_heading level0 col0\" >Стоимость</th>    </tr>    <tr>        <th class=\"index_name level0\" >Проект</th>        <th class=\"blank\" ></th>    </tr></thead><tbody>\n",
       "                <tr>\n",
       "                        <th id=\"T_173c726e_4d95_11ea_9855_f8633faa6bc5level0_row0\" class=\"row_heading level0 row0\" >Дашкина</th>\n",
       "                        <td id=\"T_173c726e_4d95_11ea_9855_f8633faa6bc5row0_col0\" class=\"data row0 col0\" >118425108</td>\n",
       "            </tr>\n",
       "            <tr>\n",
       "                        <th id=\"T_173c726e_4d95_11ea_9855_f8633faa6bc5level0_row1\" class=\"row_heading level0 row1\" >Захаров</th>\n",
       "                        <td id=\"T_173c726e_4d95_11ea_9855_f8633faa6bc5row1_col0\" class=\"data row1 col0\" >113632830</td>\n",
       "            </tr>\n",
       "            <tr>\n",
       "                        <th id=\"T_173c726e_4d95_11ea_9855_f8633faa6bc5level0_row2\" class=\"row_heading level0 row2\" >Буслаева</th>\n",
       "                        <td id=\"T_173c726e_4d95_11ea_9855_f8633faa6bc5row2_col0\" class=\"data row2 col0\" >50609725</td>\n",
       "            </tr>\n",
       "            <tr>\n",
       "                        <th id=\"T_173c726e_4d95_11ea_9855_f8633faa6bc5level0_row3\" class=\"row_heading level0 row3\" >Книга</th>\n",
       "                        <td id=\"T_173c726e_4d95_11ea_9855_f8633faa6bc5row3_col0\" class=\"data row3 col0\" >44039792</td>\n",
       "            </tr>\n",
       "            <tr>\n",
       "                        <th id=\"T_173c726e_4d95_11ea_9855_f8633faa6bc5level0_row4\" class=\"row_heading level0 row4\" >Перевалов В.А.</th>\n",
       "                        <td id=\"T_173c726e_4d95_11ea_9855_f8633faa6bc5row4_col0\" class=\"data row4 col0\" >33283179</td>\n",
       "            </tr>\n",
       "            <tr>\n",
       "                        <th id=\"T_173c726e_4d95_11ea_9855_f8633faa6bc5level0_row5\" class=\"row_heading level0 row5\" >Медведкова</th>\n",
       "                        <td id=\"T_173c726e_4d95_11ea_9855_f8633faa6bc5row5_col0\" class=\"data row5 col0\" >31278122</td>\n",
       "            </tr>\n",
       "            <tr>\n",
       "                        <th id=\"T_173c726e_4d95_11ea_9855_f8633faa6bc5level0_row6\" class=\"row_heading level0 row6\" >Камшилова</th>\n",
       "                        <td id=\"T_173c726e_4d95_11ea_9855_f8633faa6bc5row6_col0\" class=\"data row6 col0\" >26488082</td>\n",
       "            </tr>\n",
       "            <tr>\n",
       "                        <th id=\"T_173c726e_4d95_11ea_9855_f8633faa6bc5level0_row7\" class=\"row_heading level0 row7\" >Хамидов</th>\n",
       "                        <td id=\"T_173c726e_4d95_11ea_9855_f8633faa6bc5row7_col0\" class=\"data row7 col0\" >24279059</td>\n",
       "            </tr>\n",
       "            <tr>\n",
       "                        <th id=\"T_173c726e_4d95_11ea_9855_f8633faa6bc5level0_row8\" class=\"row_heading level0 row8\" >Гаврилков</th>\n",
       "                        <td id=\"T_173c726e_4d95_11ea_9855_f8633faa6bc5row8_col0\" class=\"data row8 col0\" >21482491</td>\n",
       "            </tr>\n",
       "            <tr>\n",
       "                        <th id=\"T_173c726e_4d95_11ea_9855_f8633faa6bc5level0_row9\" class=\"row_heading level0 row9\" >Остапенко</th>\n",
       "                        <td id=\"T_173c726e_4d95_11ea_9855_f8633faa6bc5row9_col0\" class=\"data row9 col0\" >21035547</td>\n",
       "            </tr>\n",
       "            <tr>\n",
       "                        <th id=\"T_173c726e_4d95_11ea_9855_f8633faa6bc5level0_row10\" class=\"row_heading level0 row10\" >Салков</th>\n",
       "                        <td id=\"T_173c726e_4d95_11ea_9855_f8633faa6bc5row10_col0\" class=\"data row10 col0\" >15160641</td>\n",
       "            </tr>\n",
       "            <tr>\n",
       "                        <th id=\"T_173c726e_4d95_11ea_9855_f8633faa6bc5level0_row11\" class=\"row_heading level0 row11\" >Потапенко А.Л.</th>\n",
       "                        <td id=\"T_173c726e_4d95_11ea_9855_f8633faa6bc5row11_col0\" class=\"data row11 col0\" >12911398</td>\n",
       "            </tr>\n",
       "            <tr>\n",
       "                        <th id=\"T_173c726e_4d95_11ea_9855_f8633faa6bc5level0_row12\" class=\"row_heading level0 row12\" >Мурый</th>\n",
       "                        <td id=\"T_173c726e_4d95_11ea_9855_f8633faa6bc5row12_col0\" class=\"data row12 col0\" >70278</td>\n",
       "            </tr>\n",
       "    </tbody></table>"
      ],
      "text/plain": [
       "<pandas.io.formats.style.Styler at 0x18bbe2a0ec8>"
      ]
     },
     "execution_count": 28,
     "metadata": {},
     "output_type": "execute_result"
    }
   ],
   "source": [
    "top_salesman.style.bar()"
   ]
  },
  {
   "cell_type": "markdown",
   "metadata": {},
   "source": [
    "Большая часть объема продаж отдела в рассматриваемом периоде было сгенерировано двумя сотрудниками. "
   ]
  },
  {
   "cell_type": "code",
   "execution_count": 46,
   "metadata": {},
   "outputs": [
    {
     "data": {
      "text/html": [
       "<div>\n",
       "<style scoped>\n",
       "    .dataframe tbody tr th:only-of-type {\n",
       "        vertical-align: middle;\n",
       "    }\n",
       "\n",
       "    .dataframe tbody tr th {\n",
       "        vertical-align: top;\n",
       "    }\n",
       "\n",
       "    .dataframe thead th {\n",
       "        text-align: right;\n",
       "    }\n",
       "</style>\n",
       "<table border=\"1\" class=\"dataframe\">\n",
       "  <thead>\n",
       "    <tr style=\"text-align: right;\">\n",
       "      <th></th>\n",
       "      <th>Проект</th>\n",
       "      <th>Кол-во документов продажи</th>\n",
       "    </tr>\n",
       "  </thead>\n",
       "  <tbody>\n",
       "    <tr>\n",
       "      <td>3</td>\n",
       "      <td>Захаров</td>\n",
       "      <td>10698</td>\n",
       "    </tr>\n",
       "    <tr>\n",
       "      <td>2</td>\n",
       "      <td>Дашкина</td>\n",
       "      <td>9032</td>\n",
       "    </tr>\n",
       "    <tr>\n",
       "      <td>0</td>\n",
       "      <td>Буслаева</td>\n",
       "      <td>6521</td>\n",
       "    </tr>\n",
       "    <tr>\n",
       "      <td>9</td>\n",
       "      <td>Перевалов В.А.</td>\n",
       "      <td>5474</td>\n",
       "    </tr>\n",
       "    <tr>\n",
       "      <td>5</td>\n",
       "      <td>Книга</td>\n",
       "      <td>4753</td>\n",
       "    </tr>\n",
       "    <tr>\n",
       "      <td>8</td>\n",
       "      <td>Остапенко</td>\n",
       "      <td>4699</td>\n",
       "    </tr>\n",
       "    <tr>\n",
       "      <td>4</td>\n",
       "      <td>Камшилова</td>\n",
       "      <td>3932</td>\n",
       "    </tr>\n",
       "    <tr>\n",
       "      <td>6</td>\n",
       "      <td>Медведкова</td>\n",
       "      <td>3751</td>\n",
       "    </tr>\n",
       "    <tr>\n",
       "      <td>1</td>\n",
       "      <td>Гаврилков</td>\n",
       "      <td>3423</td>\n",
       "    </tr>\n",
       "    <tr>\n",
       "      <td>10</td>\n",
       "      <td>Потапенко А.Л.</td>\n",
       "      <td>3386</td>\n",
       "    </tr>\n",
       "    <tr>\n",
       "      <td>12</td>\n",
       "      <td>Хамидов</td>\n",
       "      <td>3343</td>\n",
       "    </tr>\n",
       "    <tr>\n",
       "      <td>11</td>\n",
       "      <td>Салков</td>\n",
       "      <td>3090</td>\n",
       "    </tr>\n",
       "    <tr>\n",
       "      <td>7</td>\n",
       "      <td>Мурый</td>\n",
       "      <td>5</td>\n",
       "    </tr>\n",
       "  </tbody>\n",
       "</table>\n",
       "</div>"
      ],
      "text/plain": [
       "            Проект  Кол-во документов продажи\n",
       "3          Захаров                      10698\n",
       "2          Дашкина                       9032\n",
       "0         Буслаева                       6521\n",
       "9   Перевалов В.А.                       5474\n",
       "5            Книга                       4753\n",
       "8        Остапенко                       4699\n",
       "4        Камшилова                       3932\n",
       "6       Медведкова                       3751\n",
       "1        Гаврилков                       3423\n",
       "10  Потапенко А.Л.                       3386\n",
       "12         Хамидов                       3343\n",
       "11          Салков                       3090\n",
       "7            Мурый                          5"
      ]
     },
     "execution_count": 46,
     "metadata": {},
     "output_type": "execute_result"
    }
   ],
   "source": [
    "top_salesman_count = data.groupby('Проект')[['Документ продажи']].count().reset_index().sort_values('Документ продажи', ascending=False)\n",
    "top_salesman_count.rename(columns={'Документ продажи': 'Кол-во документов продажи'}, inplace=True)\n",
    "\n",
    "\n",
    "top_salesman_count"
   ]
  },
  {
   "cell_type": "code",
   "execution_count": 47,
   "metadata": {},
   "outputs": [
    {
     "data": {
      "image/png": "[encoded data removed]",
      "text/plain": [
       "<Figure size 432x288 with 1 Axes>"
      ]
     },
     "metadata": {
      "needs_background": "light"
     },
     "output_type": "display_data"
    }
   ],
   "source": [
    "plt.barh(top_salesman_count['Проект'], top_salesman_count['Кол-во документов продажи'])\n",
    "plt.xlabel('Проект')\n",
    "plt.ylabel('Число реализаций')\n",
    "plt.grid()"
   ]
  },
  {
   "cell_type": "markdown",
   "metadata": {},
   "source": [
    "Наибольшее число реализаций проведено по тем же проектам, которые сгенерировали наибольший объем продаж в рублях. "
   ]
  },
  {
   "cell_type": "code",
   "execution_count": 44,
   "metadata": {},
   "outputs": [
    {
     "data": {
      "text/html": [
       "<div>\n",
       "<style scoped>\n",
       "    .dataframe tbody tr th:only-of-type {\n",
       "        vertical-align: middle;\n",
       "    }\n",
       "\n",
       "    .dataframe tbody tr th {\n",
       "        vertical-align: top;\n",
       "    }\n",
       "\n",
       "    .dataframe thead th {\n",
       "        text-align: right;\n",
       "    }\n",
       "</style>\n",
       "<table border=\"1\" class=\"dataframe\">\n",
       "  <thead>\n",
       "    <tr style=\"text-align: right;\">\n",
       "      <th></th>\n",
       "      <th>Проект</th>\n",
       "      <th>Средний чек</th>\n",
       "    </tr>\n",
       "  </thead>\n",
       "  <tbody>\n",
       "    <tr>\n",
       "      <td>7</td>\n",
       "      <td>Мурый</td>\n",
       "      <td>14055.600000</td>\n",
       "    </tr>\n",
       "    <tr>\n",
       "      <td>2</td>\n",
       "      <td>Дашкина</td>\n",
       "      <td>13111.725864</td>\n",
       "    </tr>\n",
       "    <tr>\n",
       "      <td>3</td>\n",
       "      <td>Захаров</td>\n",
       "      <td>10621.876052</td>\n",
       "    </tr>\n",
       "    <tr>\n",
       "      <td>5</td>\n",
       "      <td>Книга</td>\n",
       "      <td>9265.683147</td>\n",
       "    </tr>\n",
       "    <tr>\n",
       "      <td>6</td>\n",
       "      <td>Медведкова</td>\n",
       "      <td>8338.608904</td>\n",
       "    </tr>\n",
       "    <tr>\n",
       "      <td>0</td>\n",
       "      <td>Буслаева</td>\n",
       "      <td>7761.037418</td>\n",
       "    </tr>\n",
       "    <tr>\n",
       "      <td>12</td>\n",
       "      <td>Хамидов</td>\n",
       "      <td>7262.655998</td>\n",
       "    </tr>\n",
       "    <tr>\n",
       "      <td>4</td>\n",
       "      <td>Камшилова</td>\n",
       "      <td>6736.541709</td>\n",
       "    </tr>\n",
       "    <tr>\n",
       "      <td>1</td>\n",
       "      <td>Гаврилков</td>\n",
       "      <td>6275.924920</td>\n",
       "    </tr>\n",
       "    <tr>\n",
       "      <td>9</td>\n",
       "      <td>Перевалов В.А.</td>\n",
       "      <td>6080.229996</td>\n",
       "    </tr>\n",
       "    <tr>\n",
       "      <td>11</td>\n",
       "      <td>Салков</td>\n",
       "      <td>4906.356311</td>\n",
       "    </tr>\n",
       "    <tr>\n",
       "      <td>8</td>\n",
       "      <td>Остапенко</td>\n",
       "      <td>4476.600766</td>\n",
       "    </tr>\n",
       "    <tr>\n",
       "      <td>10</td>\n",
       "      <td>Потапенко А.Л.</td>\n",
       "      <td>3813.171294</td>\n",
       "    </tr>\n",
       "  </tbody>\n",
       "</table>\n",
       "</div>"
      ],
      "text/plain": [
       "            Проект   Средний чек\n",
       "7            Мурый  14055.600000\n",
       "2          Дашкина  13111.725864\n",
       "3          Захаров  10621.876052\n",
       "5            Книга   9265.683147\n",
       "6       Медведкова   8338.608904\n",
       "0         Буслаева   7761.037418\n",
       "12         Хамидов   7262.655998\n",
       "4        Камшилова   6736.541709\n",
       "1        Гаврилков   6275.924920\n",
       "9   Перевалов В.А.   6080.229996\n",
       "11          Салков   4906.356311\n",
       "8        Остапенко   4476.600766\n",
       "10  Потапенко А.Л.   3813.171294"
      ]
     },
     "execution_count": 44,
     "metadata": {},
     "output_type": "execute_result"
    }
   ],
   "source": [
    "average_sale = data.groupby('Проект')[['Стоимость']].mean().reset_index().sort_values('Стоимость', ascending=False)\n",
    "average_sale.rename(columns={'Стоимость': 'Средний чек'}, inplace=True)\n",
    "\n",
    "average_sale"
   ]
  },
  {
   "cell_type": "code",
   "execution_count": 61,
   "metadata": {},
   "outputs": [
    {
     "data": {
      "text/html": [
       "<div>\n",
       "<style scoped>\n",
       "    .dataframe tbody tr th:only-of-type {\n",
       "        vertical-align: middle;\n",
       "    }\n",
       "\n",
       "    .dataframe tbody tr th {\n",
       "        vertical-align: top;\n",
       "    }\n",
       "\n",
       "    .dataframe thead th {\n",
       "        text-align: right;\n",
       "    }\n",
       "</style>\n",
       "<table border=\"1\" class=\"dataframe\">\n",
       "  <thead>\n",
       "    <tr style=\"text-align: right;\">\n",
       "      <th></th>\n",
       "      <th>Проект</th>\n",
       "      <th>Средний чек</th>\n",
       "      <th>Кол-во документов продажи</th>\n",
       "    </tr>\n",
       "  </thead>\n",
       "  <tbody>\n",
       "    <tr>\n",
       "      <td>0</td>\n",
       "      <td>Мурый</td>\n",
       "      <td>14055.600000</td>\n",
       "      <td>5</td>\n",
       "    </tr>\n",
       "    <tr>\n",
       "      <td>1</td>\n",
       "      <td>Дашкина</td>\n",
       "      <td>13111.725864</td>\n",
       "      <td>9032</td>\n",
       "    </tr>\n",
       "    <tr>\n",
       "      <td>2</td>\n",
       "      <td>Захаров</td>\n",
       "      <td>10621.876052</td>\n",
       "      <td>10698</td>\n",
       "    </tr>\n",
       "    <tr>\n",
       "      <td>3</td>\n",
       "      <td>Книга</td>\n",
       "      <td>9265.683147</td>\n",
       "      <td>4753</td>\n",
       "    </tr>\n",
       "    <tr>\n",
       "      <td>4</td>\n",
       "      <td>Медведкова</td>\n",
       "      <td>8338.608904</td>\n",
       "      <td>3751</td>\n",
       "    </tr>\n",
       "    <tr>\n",
       "      <td>5</td>\n",
       "      <td>Буслаева</td>\n",
       "      <td>7761.037418</td>\n",
       "      <td>6521</td>\n",
       "    </tr>\n",
       "    <tr>\n",
       "      <td>6</td>\n",
       "      <td>Хамидов</td>\n",
       "      <td>7262.655998</td>\n",
       "      <td>3343</td>\n",
       "    </tr>\n",
       "    <tr>\n",
       "      <td>7</td>\n",
       "      <td>Камшилова</td>\n",
       "      <td>6736.541709</td>\n",
       "      <td>3932</td>\n",
       "    </tr>\n",
       "    <tr>\n",
       "      <td>8</td>\n",
       "      <td>Гаврилков</td>\n",
       "      <td>6275.924920</td>\n",
       "      <td>3423</td>\n",
       "    </tr>\n",
       "    <tr>\n",
       "      <td>9</td>\n",
       "      <td>Перевалов В.А.</td>\n",
       "      <td>6080.229996</td>\n",
       "      <td>5474</td>\n",
       "    </tr>\n",
       "    <tr>\n",
       "      <td>10</td>\n",
       "      <td>Салков</td>\n",
       "      <td>4906.356311</td>\n",
       "      <td>3090</td>\n",
       "    </tr>\n",
       "    <tr>\n",
       "      <td>11</td>\n",
       "      <td>Остапенко</td>\n",
       "      <td>4476.600766</td>\n",
       "      <td>4699</td>\n",
       "    </tr>\n",
       "    <tr>\n",
       "      <td>12</td>\n",
       "      <td>Потапенко А.Л.</td>\n",
       "      <td>3813.171294</td>\n",
       "      <td>3386</td>\n",
       "    </tr>\n",
       "  </tbody>\n",
       "</table>\n",
       "</div>"
      ],
      "text/plain": [
       "            Проект   Средний чек  Кол-во документов продажи\n",
       "0            Мурый  14055.600000                          5\n",
       "1          Дашкина  13111.725864                       9032\n",
       "2          Захаров  10621.876052                      10698\n",
       "3            Книга   9265.683147                       4753\n",
       "4       Медведкова   8338.608904                       3751\n",
       "5         Буслаева   7761.037418                       6521\n",
       "6          Хамидов   7262.655998                       3343\n",
       "7        Камшилова   6736.541709                       3932\n",
       "8        Гаврилков   6275.924920                       3423\n",
       "9   Перевалов В.А.   6080.229996                       5474\n",
       "10          Салков   4906.356311                       3090\n",
       "11       Остапенко   4476.600766                       4699\n",
       "12  Потапенко А.Л.   3813.171294                       3386"
      ]
     },
     "execution_count": 61,
     "metadata": {},
     "output_type": "execute_result"
    }
   ],
   "source": [
    "avg_sale = average_sale.merge(top_salesman_count, how='left', on=['Проект'])\n",
    "avg_sale.reset_index(level=0, drop=True)"
   ]
  },
  {
   "cell_type": "code",
   "execution_count": 52,
   "metadata": {},
   "outputs": [
    {
     "data": {
      "text/plain": [
       "<matplotlib.axes._subplots.AxesSubplot at 0x18bc0c06788>"
      ]
     },
     "execution_count": 52,
     "metadata": {},
     "output_type": "execute_result"
    },
    {
     "data": {
      "image/png": "[encoded data removed]",
      "text/plain": [
       "<Figure size 432x288 with 1 Axes>"
      ]
     },
     "metadata": {
      "needs_background": "light"
     },
     "output_type": "display_data"
    }
   ],
   "source": [
    "avg_sale.plot(kind='bar')"
   ]
  },
  {
   "cell_type": "markdown",
   "metadata": {},
   "source": [
    "Проект \"Мурый\" можно не учитывать в анализе, так как его продажи являются статистическим выбросом. Наибольший размер среднего чека так же зафиксирован по проектам \"Захаров\" и \"Дашкина\", по которым зафиксированы наибольшие объемы продаж и количество реализаций. При этом по проектам \"Книга\" и \"Медведкова\" величина среднего чека значительно выше кол-ва реализаций, соответсвенно, для формирования своего объема продаж, данные сотрудники затрачивают меньше сил. Возможно имеет смысл перераспределить клиентскую базу для более равномерной нагрузки на сотрудников. \n"
   ]
  },
  {
   "cell_type": "code",
   "execution_count": 62,
   "metadata": {},
   "outputs": [],
   "source": [
    "import seaborn as sns"
   ]
  },
  {
   "cell_type": "code",
   "execution_count": 72,
   "metadata": {},
   "outputs": [
    {
     "data": {
      "image/png": "[encoded data removed]",
      "text/plain": [
       "<Figure size 432x288 with 1 Axes>"
      ]
     },
     "metadata": {
      "needs_background": "light"
     },
     "output_type": "display_data"
    }
   ],
   "source": [
    "top_sm = data.Проект.value_counts().sort_values(ascending = False).head().index.values\n",
    "top_sm\n",
    "ax = sns.boxplot(x=\"Проект\", y=\"Стоимость\", \n",
    "                 data=data[data.Проект.isin(top_sm)])"
   ]
  },
  {
   "cell_type": "markdown",
   "metadata": {},
   "source": [
    "По выбранным пяти проектам наблюдается плотная выборка при очень маленьком значении медианы. Так же замечены некие крупные скорее всего разовые отгрузки по проектам \"Дашкина\" и \"Перевалов В.А.\""
   ]
  },
  {
   "cell_type": "code",
   "execution_count": 73,
   "metadata": {},
   "outputs": [
    {
     "name": "stdout",
     "output_type": "stream",
     "text": [
      "Requirement already satisfied: plotly in c:\\programdata\\anaconda3\\lib\\site-packages (4.5.0)\n",
      "Requirement already satisfied: six in c:\\programdata\\anaconda3\\lib\\site-packages (from plotly) (1.12.0)\n",
      "Requirement already satisfied: retrying>=1.3.3 in c:\\programdata\\anaconda3\\lib\\site-packages (from plotly) (1.3.3)\n"
     ]
    },
    {
     "data": {
      "text/html": [
       "        <script type=\"text/javascript\">\n",
       "        window.PlotlyConfig = {MathJaxConfig: 'local'};\n",
       "        if (window.MathJax) {MathJax.Hub.Config({SVG: {font: \"STIX-Web\"}});}\n",
       "        if (typeof require !== 'undefined') {\n",
       "        require.undef(\"plotly\");\n",
       "        requirejs.config({\n",
       "            paths: {\n",
       "                'plotly': ['https://cdn.plot.ly/plotly-latest.min']\n",
       "            }\n",
       "        });\n",
       "        require(['plotly'], function(Plotly) {\n",
       "            window._Plotly = Plotly;\n",
       "        });\n",
       "        }\n",
       "        </script>\n",
       "        "
      ]
     },
     "metadata": {},
     "output_type": "display_data"
    }
   ],
   "source": [
    "!pip install plotly\n",
    "from plotly.offline import init_notebook_mode, iplot\n",
    "import plotly\n",
    "import plotly.graph_objs as go\n",
    "\n",
    "init_notebook_mode(connected=True)"
   ]
  },
  {
   "cell_type": "code",
   "execution_count": 80,
   "metadata": {},
   "outputs": [
    {
     "data": {
      "text/html": [
       "<div>\n",
       "<style scoped>\n",
       "    .dataframe tbody tr th:only-of-type {\n",
       "        vertical-align: middle;\n",
       "    }\n",
       "\n",
       "    .dataframe tbody tr th {\n",
       "        vertical-align: top;\n",
       "    }\n",
       "\n",
       "    .dataframe thead th {\n",
       "        text-align: right;\n",
       "    }\n",
       "</style>\n",
       "<table border=\"1\" class=\"dataframe\">\n",
       "  <thead>\n",
       "    <tr style=\"text-align: right;\">\n",
       "      <th></th>\n",
       "      <th>Salesman</th>\n",
       "      <th>Value</th>\n",
       "    </tr>\n",
       "  </thead>\n",
       "  <tbody>\n",
       "    <tr>\n",
       "      <td>0</td>\n",
       "      <td>Дашкина</td>\n",
       "      <td>118425108</td>\n",
       "    </tr>\n",
       "    <tr>\n",
       "      <td>1</td>\n",
       "      <td>Захаров</td>\n",
       "      <td>113632830</td>\n",
       "    </tr>\n",
       "    <tr>\n",
       "      <td>2</td>\n",
       "      <td>Буслаева</td>\n",
       "      <td>50609725</td>\n",
       "    </tr>\n",
       "    <tr>\n",
       "      <td>3</td>\n",
       "      <td>Книга</td>\n",
       "      <td>44039792</td>\n",
       "    </tr>\n",
       "    <tr>\n",
       "      <td>4</td>\n",
       "      <td>Перевалов В.А.</td>\n",
       "      <td>33283179</td>\n",
       "    </tr>\n",
       "    <tr>\n",
       "      <td>5</td>\n",
       "      <td>Медведкова</td>\n",
       "      <td>31278122</td>\n",
       "    </tr>\n",
       "    <tr>\n",
       "      <td>6</td>\n",
       "      <td>Камшилова</td>\n",
       "      <td>26488082</td>\n",
       "    </tr>\n",
       "    <tr>\n",
       "      <td>7</td>\n",
       "      <td>Хамидов</td>\n",
       "      <td>24279059</td>\n",
       "    </tr>\n",
       "    <tr>\n",
       "      <td>8</td>\n",
       "      <td>Гаврилков</td>\n",
       "      <td>21482491</td>\n",
       "    </tr>\n",
       "    <tr>\n",
       "      <td>9</td>\n",
       "      <td>Остапенко</td>\n",
       "      <td>21035547</td>\n",
       "    </tr>\n",
       "    <tr>\n",
       "      <td>10</td>\n",
       "      <td>Салков</td>\n",
       "      <td>15160641</td>\n",
       "    </tr>\n",
       "    <tr>\n",
       "      <td>11</td>\n",
       "      <td>Потапенко А.Л.</td>\n",
       "      <td>12911398</td>\n",
       "    </tr>\n",
       "    <tr>\n",
       "      <td>12</td>\n",
       "      <td>Мурый</td>\n",
       "      <td>70278</td>\n",
       "    </tr>\n",
       "  </tbody>\n",
       "</table>\n",
       "</div>"
      ],
      "text/plain": [
       "          Salesman      Value\n",
       "0          Дашкина  118425108\n",
       "1          Захаров  113632830\n",
       "2         Буслаева   50609725\n",
       "3            Книга   44039792\n",
       "4   Перевалов В.А.   33283179\n",
       "5       Медведкова   31278122\n",
       "6        Камшилова   26488082\n",
       "7          Хамидов   24279059\n",
       "8        Гаврилков   21482491\n",
       "9        Остапенко   21035547\n",
       "10          Салков   15160641\n",
       "11  Потапенко А.Л.   12911398\n",
       "12           Мурый      70278"
      ]
     },
     "execution_count": 80,
     "metadata": {},
     "output_type": "execute_result"
    }
   ],
   "source": [
    "sales = data.groupby('Проект')[['Стоимость']].sum()\\\n",
    "    .sort_values('Стоимость', ascending=False).reset_index()\n",
    "sales.rename(columns={'Проект': 'Salesman'}, inplace=True)\n",
    "sales.rename(columns={'Стоимость': 'Value'}, inplace=True)\n",
    "\n",
    "sales"
   ]
  },
  {
   "cell_type": "code",
   "execution_count": 81,
   "metadata": {},
   "outputs": [
    {
     "data": {
      "application/vnd.plotly.v1+json": {
       "config": {
        "linkText": "Export to plot.ly",
        "plotlyServerURL": "https://plot.ly",
        "showLink": false
       },
       "data": [
        {
         "name": "Value",
         "type": "scatter",
         "x": [
          "Дашкина",
          "Захаров",
          "Буслаева",
          "Книга",
          "Перевалов В.А.",
          "Медведкова",
          "Камшилова",
          "Хамидов",
          "Гаврилков",
          "Остапенко",
          "Салков",
          "Потапенко А.Л.",
          "Мурый"
         ],
         "y": [
          118425108,
          113632830,
          50609725,
          44039792,
          33283179,
          31278122,
          26488082,
          24279059,
          21482491,
          21035547,
          15160641,
          12911398,
          70278
         ]
        }
       ],
       "layout": {
        "template": {
         "data": {
          "bar": [
           {
            "error_x": {
             "color": "#2a3f5f"
            },
            "error_y": {
             "color": "#2a3f5f"
            },
            "marker": {
             "line": {
              "color": "#E5ECF6",
              "width": 0.5
             }
            },
            "type": "bar"
           }
          ],
          "barpolar": [
           {
            "marker": {
             "line": {
              "color": "#E5ECF6",
              "width": 0.5
             }
            },
            "type": "barpolar"
           }
          ],
          "carpet": [
           {
            "aaxis": {
             "endlinecolor": "#2a3f5f",
             "gridcolor": "white",
             "linecolor": "white",
             "minorgridcolor": "white",
             "startlinecolor": "#2a3f5f"
            },
            "baxis": {
             "endlinecolor": "#2a3f5f",
             "gridcolor": "white",
             "linecolor": "white",
             "minorgridcolor": "white",
             "startlinecolor": "#2a3f5f"
            },
            "type": "carpet"
           }
          ],
          "choropleth": [
           {
            "colorbar": {
             "outlinewidth": 0,
             "ticks": ""
            },
            "type": "choropleth"
           }
          ],
          "contour": [
           {
            "colorbar": {
             "outlinewidth": 0,
             "ticks": ""
            },
            "colorscale": [
             [
              0,
              "#0d0887"
             ],
             [
              0.1111111111111111,
              "#46039f"
             ],
             [
              0.2222222222222222,
              "#7201a8"
             ],
             [
              0.3333333333333333,
              "#9c179e"
             ],
             [
              0.4444444444444444,
              "#bd3786"
             ],
             [
              0.5555555555555556,
              "#d8576b"
             ],
             [
              0.6666666666666666,
              "#ed7953"
             ],
             [
              0.7777777777777778,
              "#fb9f3a"
             ],
             [
              0.8888888888888888,
              "#fdca26"
             ],
             [
              1,
              "#f0f921"
             ]
            ],
            "type": "contour"
           }
          ],
          "contourcarpet": [
           {
            "colorbar": {
             "outlinewidth": 0,
             "ticks": ""
            },
            "type": "contourcarpet"
           }
          ],
          "heatmap": [
           {
            "colorbar": {
             "outlinewidth": 0,
             "ticks": ""
            },
            "colorscale": [
             [
              0,
              "#0d0887"
             ],
             [
              0.1111111111111111,
              "#46039f"
             ],
             [
              0.2222222222222222,
              "#7201a8"
             ],
             [
              0.3333333333333333,
              "#9c179e"
             ],
             [
              0.4444444444444444,
              "#bd3786"
             ],
             [
              0.5555555555555556,
              "#d8576b"
             ],
             [
              0.6666666666666666,
              "#ed7953"
             ],
             [
              0.7777777777777778,
              "#fb9f3a"
             ],
             [
              0.8888888888888888,
              "#fdca26"
             ],
             [
              1,
              "#f0f921"
             ]
            ],
            "type": "heatmap"
           }
          ],
          "heatmapgl": [
           {
            "colorbar": {
             "outlinewidth": 0,
             "ticks": ""
            },
            "colorscale": [
             [
              0,
              "#0d0887"
             ],
             [
              0.1111111111111111,
              "#46039f"
             ],
             [
              0.2222222222222222,
              "#7201a8"
             ],
             [
              0.3333333333333333,
              "#9c179e"
             ],
             [
              0.4444444444444444,
              "#bd3786"
             ],
             [
              0.5555555555555556,
              "#d8576b"
             ],
             [
              0.6666666666666666,
              "#ed7953"
             ],
             [
              0.7777777777777778,
              "#fb9f3a"
             ],
             [
              0.8888888888888888,
              "#fdca26"
             ],
             [
              1,
              "#f0f921"
             ]
            ],
            "type": "heatmapgl"
           }
          ],
          "histogram": [
           {
            "marker": {
             "colorbar": {
              "outlinewidth": 0,
              "ticks": ""
             }
            },
            "type": "histogram"
           }
          ],
          "histogram2d": [
           {
            "colorbar": {
             "outlinewidth": 0,
             "ticks": ""
            },
            "colorscale": [
             [
              0,
              "#0d0887"
             ],
             [
              0.1111111111111111,
              "#46039f"
             ],
             [
              0.2222222222222222,
              "#7201a8"
             ],
             [
              0.3333333333333333,
              "#9c179e"
             ],
             [
              0.4444444444444444,
              "#bd3786"
             ],
             [
              0.5555555555555556,
              "#d8576b"
             ],
             [
              0.6666666666666666,
              "#ed7953"
             ],
             [
              0.7777777777777778,
              "#fb9f3a"
             ],
             [
              0.8888888888888888,
              "#fdca26"
             ],
             [
              1,
              "#f0f921"
             ]
            ],
            "type": "histogram2d"
           }
          ],
          "histogram2dcontour": [
           {
            "colorbar": {
             "outlinewidth": 0,
             "ticks": ""
            },
            "colorscale": [
             [
              0,
              "#0d0887"
             ],
             [
              0.1111111111111111,
              "#46039f"
             ],
             [
              0.2222222222222222,
              "#7201a8"
             ],
             [
              0.3333333333333333,
              "#9c179e"
             ],
             [
              0.4444444444444444,
              "#bd3786"
             ],
             [
              0.5555555555555556,
              "#d8576b"
             ],
             [
              0.6666666666666666,
              "#ed7953"
             ],
             [
              0.7777777777777778,
              "#fb9f3a"
             ],
             [
              0.8888888888888888,
              "#fdca26"
             ],
             [
              1,
              "#f0f921"
             ]
            ],
            "type": "histogram2dcontour"
           }
          ],
          "mesh3d": [
           {
            "colorbar": {
             "outlinewidth": 0,
             "ticks": ""
            },
            "type": "mesh3d"
           }
          ],
          "parcoords": [
           {
            "line": {
             "colorbar": {
              "outlinewidth": 0,
              "ticks": ""
             }
            },
            "type": "parcoords"
           }
          ],
          "pie": [
           {
            "automargin": true,
            "type": "pie"
           }
          ],
          "scatter": [
           {
            "marker": {
             "colorbar": {
              "outlinewidth": 0,
              "ticks": ""
             }
            },
            "type": "scatter"
           }
          ],
          "scatter3d": [
           {
            "line": {
             "colorbar": {
              "outlinewidth": 0,
              "ticks": ""
             }
            },
            "marker": {
             "colorbar": {
              "outlinewidth": 0,
              "ticks": ""
             }
            },
            "type": "scatter3d"
           }
          ],
          "scattercarpet": [
           {
            "marker": {
             "colorbar": {
              "outlinewidth": 0,
              "ticks": ""
             }
            },
            "type": "scattercarpet"
           }
          ],
          "scattergeo": [
           {
            "marker": {
             "colorbar": {
              "outlinewidth": 0,
              "ticks": ""
             }
            },
            "type": "scattergeo"
           }
          ],
          "scattergl": [
           {
            "marker": {
             "colorbar": {
              "outlinewidth": 0,
              "ticks": ""
             }
            },
            "type": "scattergl"
           }
          ],
          "scattermapbox": [
           {
            "marker": {
             "colorbar": {
              "outlinewidth": 0,
              "ticks": ""
             }
            },
            "type": "scattermapbox"
           }
          ],
          "scatterpolar": [
           {
            "marker": {
             "colorbar": {
              "outlinewidth": 0,
              "ticks": ""
             }
            },
            "type": "scatterpolar"
           }
          ],
          "scatterpolargl": [
           {
            "marker": {
             "colorbar": {
              "outlinewidth": 0,
              "ticks": ""
             }
            },
            "type": "scatterpolargl"
           }
          ],
          "scatterternary": [
           {
            "marker": {
             "colorbar": {
              "outlinewidth": 0,
              "ticks": ""
             }
            },
            "type": "scatterternary"
           }
          ],
          "surface": [
           {
            "colorbar": {
             "outlinewidth": 0,
             "ticks": ""
            },
            "colorscale": [
             [
              0,
              "#0d0887"
             ],
             [
              0.1111111111111111,
              "#46039f"
             ],
             [
              0.2222222222222222,
              "#7201a8"
             ],
             [
              0.3333333333333333,
              "#9c179e"
             ],
             [
              0.4444444444444444,
              "#bd3786"
             ],
             [
              0.5555555555555556,
              "#d8576b"
             ],
             [
              0.6666666666666666,
              "#ed7953"
             ],
             [
              0.7777777777777778,
              "#fb9f3a"
             ],
             [
              0.8888888888888888,
              "#fdca26"
             ],
             [
              1,
              "#f0f921"
             ]
            ],
            "type": "surface"
           }
          ],
          "table": [
           {
            "cells": {
             "fill": {
              "color": "#EBF0F8"
             },
             "line": {
              "color": "white"
             }
            },
            "header": {
             "fill": {
              "color": "#C8D4E3"
             },
             "line": {
              "color": "white"
             }
            },
            "type": "table"
           }
          ]
         },
         "layout": {
          "annotationdefaults": {
           "arrowcolor": "#2a3f5f",
           "arrowhead": 0,
           "arrowwidth": 1
          },
          "coloraxis": {
           "colorbar": {
            "outlinewidth": 0,
            "ticks": ""
           }
          },
          "colorscale": {
           "diverging": [
            [
             0,
             "#8e0152"
            ],
            [
             0.1,
             "#c51b7d"
            ],
            [
             0.2,
             "#de77ae"
            ],
            [
             0.3,
             "#f1b6da"
            ],
            [
             0.4,
             "#fde0ef"
            ],
            [
             0.5,
             "#f7f7f7"
            ],
            [
             0.6,
             "#e6f5d0"
            ],
            [
             0.7,
             "#b8e186"
            ],
            [
             0.8,
             "#7fbc41"
            ],
            [
             0.9,
             "#4d9221"
            ],
            [
             1,
             "#276419"
            ]
           ],
           "sequential": [
            [
             0,
             "#0d0887"
            ],
            [
             0.1111111111111111,
             "#46039f"
            ],
            [
             0.2222222222222222,
             "#7201a8"
            ],
            [
             0.3333333333333333,
             "#9c179e"
            ],
            [
             0.4444444444444444,
             "#bd3786"
            ],
            [
             0.5555555555555556,
             "#d8576b"
            ],
            [
             0.6666666666666666,
             "#ed7953"
            ],
            [
             0.7777777777777778,
             "#fb9f3a"
            ],
            [
             0.8888888888888888,
             "#fdca26"
            ],
            [
             1,
             "#f0f921"
            ]
           ],
           "sequentialminus": [
            [
             0,
             "#0d0887"
            ],
            [
             0.1111111111111111,
             "#46039f"
            ],
            [
             0.2222222222222222,
             "#7201a8"
            ],
            [
             0.3333333333333333,
             "#9c179e"
            ],
            [
             0.4444444444444444,
             "#bd3786"
            ],
            [
             0.5555555555555556,
             "#d8576b"
            ],
            [
             0.6666666666666666,
             "#ed7953"
            ],
            [
             0.7777777777777778,
             "#fb9f3a"
            ],
            [
             0.8888888888888888,
             "#fdca26"
            ],
            [
             1,
             "#f0f921"
            ]
           ]
          },
          "colorway": [
           "#636efa",
           "#EF553B",
           "#00cc96",
           "#ab63fa",
           "#FFA15A",
           "#19d3f3",
           "#FF6692",
           "#B6E880",
           "#FF97FF",
           "#FECB52"
          ],
          "font": {
           "color": "#2a3f5f"
          },
          "geo": {
           "bgcolor": "white",
           "lakecolor": "white",
           "landcolor": "#E5ECF6",
           "showlakes": true,
           "showland": true,
           "subunitcolor": "white"
          },
          "hoverlabel": {
           "align": "left"
          },
          "hovermode": "closest",
          "mapbox": {
           "style": "light"
          },
          "paper_bgcolor": "white",
          "plot_bgcolor": "#E5ECF6",
          "polar": {
           "angularaxis": {
            "gridcolor": "white",
            "linecolor": "white",
            "ticks": ""
           },
           "bgcolor": "#E5ECF6",
           "radialaxis": {
            "gridcolor": "white",
            "linecolor": "white",
            "ticks": ""
           }
          },
          "scene": {
           "xaxis": {
            "backgroundcolor": "#E5ECF6",
            "gridcolor": "white",
            "gridwidth": 2,
            "linecolor": "white",
            "showbackground": true,
            "ticks": "",
            "zerolinecolor": "white"
           },
           "yaxis": {
            "backgroundcolor": "#E5ECF6",
            "gridcolor": "white",
            "gridwidth": 2,
            "linecolor": "white",
            "showbackground": true,
            "ticks": "",
            "zerolinecolor": "white"
           },
           "zaxis": {
            "backgroundcolor": "#E5ECF6",
            "gridcolor": "white",
            "gridwidth": 2,
            "linecolor": "white",
            "showbackground": true,
            "ticks": "",
            "zerolinecolor": "white"
           }
          },
          "shapedefaults": {
           "line": {
            "color": "#2a3f5f"
           }
          },
          "ternary": {
           "aaxis": {
            "gridcolor": "white",
            "linecolor": "white",
            "ticks": ""
           },
           "baxis": {
            "gridcolor": "white",
            "linecolor": "white",
            "ticks": ""
           },
           "bgcolor": "#E5ECF6",
           "caxis": {
            "gridcolor": "white",
            "linecolor": "white",
            "ticks": ""
           }
          },
          "title": {
           "x": 0.05
          },
          "xaxis": {
           "automargin": true,
           "gridcolor": "white",
           "linecolor": "white",
           "ticks": "",
           "title": {
            "standoff": 15
           },
           "zerolinecolor": "white",
           "zerolinewidth": 2
          },
          "yaxis": {
           "automargin": true,
           "gridcolor": "white",
           "linecolor": "white",
           "ticks": "",
           "title": {
            "standoff": 15
           },
           "zerolinecolor": "white",
           "zerolinewidth": 2
          }
         }
        },
        "title": {
         "text": "Value"
        }
       }
      },
      "text/html": [
       "<div>\n",
       "        \n",
       "        \n",
       "            <div id=\"cb12241b-6dde-4871-9b7f-1f77ca21ab24\" class=\"plotly-graph-div\" style=\"height:525px; width:100%;\"></div>\n",
       "            <script type=\"text/javascript\">\n",
       "                require([\"plotly\"], function(Plotly) {\n",
       "                    window.PLOTLYENV=window.PLOTLYENV || {};\n",
       "                    \n",
       "                if (document.getElementById(\"cb12241b-6dde-4871-9b7f-1f77ca21ab24\")) {\n",
       "                    Plotly.newPlot(\n",
       "                        'cb12241b-6dde-4871-9b7f-1f77ca21ab24',\n",
       "                        [{\"name\": \"Value\", \"type\": \"scatter\", \"x\": [\"\\u0414\\u0430\\u0448\\u043a\\u0438\\u043d\\u0430\", \"\\u0417\\u0430\\u0445\\u0430\\u0440\\u043e\\u0432\", \"\\u0411\\u0443\\u0441\\u043b\\u0430\\u0435\\u0432\\u0430\", \"\\u041a\\u043d\\u0438\\u0433\\u0430\", \"\\u041f\\u0435\\u0440\\u0435\\u0432\\u0430\\u043b\\u043e\\u0432 \\u0412.\\u0410.\", \"\\u041c\\u0435\\u0434\\u0432\\u0435\\u0434\\u043a\\u043e\\u0432\\u0430\", \"\\u041a\\u0430\\u043c\\u0448\\u0438\\u043b\\u043e\\u0432\\u0430\", \"\\u0425\\u0430\\u043c\\u0438\\u0434\\u043e\\u0432\", \"\\u0413\\u0430\\u0432\\u0440\\u0438\\u043b\\u043a\\u043e\\u0432\", \"\\u041e\\u0441\\u0442\\u0430\\u043f\\u0435\\u043d\\u043a\\u043e\", \"\\u0421\\u0430\\u043b\\u043a\\u043e\\u0432\", \"\\u041f\\u043e\\u0442\\u0430\\u043f\\u0435\\u043d\\u043a\\u043e \\u0410.\\u041b.\", \"\\u041c\\u0443\\u0440\\u044b\\u0439\"], \"y\": [118425108, 113632830, 50609725, 44039792, 33283179, 31278122, 26488082, 24279059, 21482491, 21035547, 15160641, 12911398, 70278]}],\n",
       "                        {\"template\": {\"data\": {\"bar\": [{\"error_x\": {\"color\": \"#2a3f5f\"}, \"error_y\": {\"color\": \"#2a3f5f\"}, \"marker\": {\"line\": {\"color\": \"#E5ECF6\", \"width\": 0.5}}, \"type\": \"bar\"}], \"barpolar\": [{\"marker\": {\"line\": {\"color\": \"#E5ECF6\", \"width\": 0.5}}, \"type\": \"barpolar\"}], \"carpet\": [{\"aaxis\": {\"endlinecolor\": \"#2a3f5f\", \"gridcolor\": \"white\", \"linecolor\": \"white\", \"minorgridcolor\": \"white\", \"startlinecolor\": \"#2a3f5f\"}, \"baxis\": {\"endlinecolor\": \"#2a3f5f\", \"gridcolor\": \"white\", \"linecolor\": \"white\", \"minorgridcolor\": \"white\", \"startlinecolor\": \"#2a3f5f\"}, \"type\": \"carpet\"}], \"choropleth\": [{\"colorbar\": {\"outlinewidth\": 0, \"ticks\": \"\"}, \"type\": \"choropleth\"}], \"contour\": [{\"colorbar\": {\"outlinewidth\": 0, \"ticks\": \"\"}, \"colorscale\": [[0.0, \"#0d0887\"], [0.1111111111111111, \"#46039f\"], [0.2222222222222222, \"#7201a8\"], [0.3333333333333333, \"#9c179e\"], [0.4444444444444444, \"#bd3786\"], [0.5555555555555556, \"#d8576b\"], [0.6666666666666666, \"#ed7953\"], [0.7777777777777778, \"#fb9f3a\"], [0.8888888888888888, \"#fdca26\"], [1.0, \"#f0f921\"]], \"type\": \"contour\"}], \"contourcarpet\": [{\"colorbar\": {\"outlinewidth\": 0, \"ticks\": \"\"}, \"type\": \"contourcarpet\"}], \"heatmap\": [{\"colorbar\": {\"outlinewidth\": 0, \"ticks\": \"\"}, \"colorscale\": [[0.0, \"#0d0887\"], [0.1111111111111111, \"#46039f\"], [0.2222222222222222, \"#7201a8\"], [0.3333333333333333, \"#9c179e\"], [0.4444444444444444, \"#bd3786\"], [0.5555555555555556, \"#d8576b\"], [0.6666666666666666, \"#ed7953\"], [0.7777777777777778, \"#fb9f3a\"], [0.8888888888888888, \"#fdca26\"], [1.0, \"#f0f921\"]], \"type\": \"heatmap\"}], \"heatmapgl\": [{\"colorbar\": {\"outlinewidth\": 0, \"ticks\": \"\"}, \"colorscale\": [[0.0, \"#0d0887\"], [0.1111111111111111, \"#46039f\"], [0.2222222222222222, \"#7201a8\"], [0.3333333333333333, \"#9c179e\"], [0.4444444444444444, \"#bd3786\"], [0.5555555555555556, \"#d8576b\"], [0.6666666666666666, \"#ed7953\"], [0.7777777777777778, \"#fb9f3a\"], [0.8888888888888888, \"#fdca26\"], [1.0, \"#f0f921\"]], \"type\": \"heatmapgl\"}], \"histogram\": [{\"marker\": {\"colorbar\": {\"outlinewidth\": 0, \"ticks\": \"\"}}, \"type\": \"histogram\"}], \"histogram2d\": [{\"colorbar\": {\"outlinewidth\": 0, \"ticks\": \"\"}, \"colorscale\": [[0.0, \"#0d0887\"], [0.1111111111111111, \"#46039f\"], [0.2222222222222222, \"#7201a8\"], [0.3333333333333333, \"#9c179e\"], [0.4444444444444444, \"#bd3786\"], [0.5555555555555556, \"#d8576b\"], [0.6666666666666666, \"#ed7953\"], [0.7777777777777778, \"#fb9f3a\"], [0.8888888888888888, \"#fdca26\"], [1.0, \"#f0f921\"]], \"type\": \"histogram2d\"}], \"histogram2dcontour\": [{\"colorbar\": {\"outlinewidth\": 0, \"ticks\": \"\"}, \"colorscale\": [[0.0, \"#0d0887\"], [0.1111111111111111, \"#46039f\"], [0.2222222222222222, \"#7201a8\"], [0.3333333333333333, \"#9c179e\"], [0.4444444444444444, \"#bd3786\"], [0.5555555555555556, \"#d8576b\"], [0.6666666666666666, \"#ed7953\"], [0.7777777777777778, \"#fb9f3a\"], [0.8888888888888888, \"#fdca26\"], [1.0, \"#f0f921\"]], \"type\": \"histogram2dcontour\"}], \"mesh3d\": [{\"colorbar\": {\"outlinewidth\": 0, \"ticks\": \"\"}, \"type\": \"mesh3d\"}], \"parcoords\": [{\"line\": {\"colorbar\": {\"outlinewidth\": 0, \"ticks\": \"\"}}, \"type\": \"parcoords\"}], \"pie\": [{\"automargin\": true, \"type\": \"pie\"}], \"scatter\": [{\"marker\": {\"colorbar\": {\"outlinewidth\": 0, \"ticks\": \"\"}}, \"type\": \"scatter\"}], \"scatter3d\": [{\"line\": {\"colorbar\": {\"outlinewidth\": 0, \"ticks\": \"\"}}, \"marker\": {\"colorbar\": {\"outlinewidth\": 0, \"ticks\": \"\"}}, \"type\": \"scatter3d\"}], \"scattercarpet\": [{\"marker\": {\"colorbar\": {\"outlinewidth\": 0, \"ticks\": \"\"}}, \"type\": \"scattercarpet\"}], \"scattergeo\": [{\"marker\": {\"colorbar\": {\"outlinewidth\": 0, \"ticks\": \"\"}}, \"type\": \"scattergeo\"}], \"scattergl\": [{\"marker\": {\"colorbar\": {\"outlinewidth\": 0, \"ticks\": \"\"}}, \"type\": \"scattergl\"}], \"scattermapbox\": [{\"marker\": {\"colorbar\": {\"outlinewidth\": 0, \"ticks\": \"\"}}, \"type\": \"scattermapbox\"}], \"scatterpolar\": [{\"marker\": {\"colorbar\": {\"outlinewidth\": 0, \"ticks\": \"\"}}, \"type\": \"scatterpolar\"}], \"scatterpolargl\": [{\"marker\": {\"colorbar\": {\"outlinewidth\": 0, \"ticks\": \"\"}}, \"type\": \"scatterpolargl\"}], \"scatterternary\": [{\"marker\": {\"colorbar\": {\"outlinewidth\": 0, \"ticks\": \"\"}}, \"type\": \"scatterternary\"}], \"surface\": [{\"colorbar\": {\"outlinewidth\": 0, \"ticks\": \"\"}, \"colorscale\": [[0.0, \"#0d0887\"], [0.1111111111111111, \"#46039f\"], [0.2222222222222222, \"#7201a8\"], [0.3333333333333333, \"#9c179e\"], [0.4444444444444444, \"#bd3786\"], [0.5555555555555556, \"#d8576b\"], [0.6666666666666666, \"#ed7953\"], [0.7777777777777778, \"#fb9f3a\"], [0.8888888888888888, \"#fdca26\"], [1.0, \"#f0f921\"]], \"type\": \"surface\"}], \"table\": [{\"cells\": {\"fill\": {\"color\": \"#EBF0F8\"}, \"line\": {\"color\": \"white\"}}, \"header\": {\"fill\": {\"color\": \"#C8D4E3\"}, \"line\": {\"color\": \"white\"}}, \"type\": \"table\"}]}, \"layout\": {\"annotationdefaults\": {\"arrowcolor\": \"#2a3f5f\", \"arrowhead\": 0, \"arrowwidth\": 1}, \"coloraxis\": {\"colorbar\": {\"outlinewidth\": 0, \"ticks\": \"\"}}, \"colorscale\": {\"diverging\": [[0, \"#8e0152\"], [0.1, \"#c51b7d\"], [0.2, \"#de77ae\"], [0.3, \"#f1b6da\"], [0.4, \"#fde0ef\"], [0.5, \"#f7f7f7\"], [0.6, \"#e6f5d0\"], [0.7, \"#b8e186\"], [0.8, \"#7fbc41\"], [0.9, \"#4d9221\"], [1, \"#276419\"]], \"sequential\": [[0.0, \"#0d0887\"], [0.1111111111111111, \"#46039f\"], [0.2222222222222222, \"#7201a8\"], [0.3333333333333333, \"#9c179e\"], [0.4444444444444444, \"#bd3786\"], [0.5555555555555556, \"#d8576b\"], [0.6666666666666666, \"#ed7953\"], [0.7777777777777778, \"#fb9f3a\"], [0.8888888888888888, \"#fdca26\"], [1.0, \"#f0f921\"]], \"sequentialminus\": [[0.0, \"#0d0887\"], [0.1111111111111111, \"#46039f\"], [0.2222222222222222, \"#7201a8\"], [0.3333333333333333, \"#9c179e\"], [0.4444444444444444, \"#bd3786\"], [0.5555555555555556, \"#d8576b\"], [0.6666666666666666, \"#ed7953\"], [0.7777777777777778, \"#fb9f3a\"], [0.8888888888888888, \"#fdca26\"], [1.0, \"#f0f921\"]]}, \"colorway\": [\"#636efa\", \"#EF553B\", \"#00cc96\", \"#ab63fa\", \"#FFA15A\", \"#19d3f3\", \"#FF6692\", \"#B6E880\", \"#FF97FF\", \"#FECB52\"], \"font\": {\"color\": \"#2a3f5f\"}, \"geo\": {\"bgcolor\": \"white\", \"lakecolor\": \"white\", \"landcolor\": \"#E5ECF6\", \"showlakes\": true, \"showland\": true, \"subunitcolor\": \"white\"}, \"hoverlabel\": {\"align\": \"left\"}, \"hovermode\": \"closest\", \"mapbox\": {\"style\": \"light\"}, \"paper_bgcolor\": \"white\", \"plot_bgcolor\": \"#E5ECF6\", \"polar\": {\"angularaxis\": {\"gridcolor\": \"white\", \"linecolor\": \"white\", \"ticks\": \"\"}, \"bgcolor\": \"#E5ECF6\", \"radialaxis\": {\"gridcolor\": \"white\", \"linecolor\": \"white\", \"ticks\": \"\"}}, \"scene\": {\"xaxis\": {\"backgroundcolor\": \"#E5ECF6\", \"gridcolor\": \"white\", \"gridwidth\": 2, \"linecolor\": \"white\", \"showbackground\": true, \"ticks\": \"\", \"zerolinecolor\": \"white\"}, \"yaxis\": {\"backgroundcolor\": \"#E5ECF6\", \"gridcolor\": \"white\", \"gridwidth\": 2, \"linecolor\": \"white\", \"showbackground\": true, \"ticks\": \"\", \"zerolinecolor\": \"white\"}, \"zaxis\": {\"backgroundcolor\": \"#E5ECF6\", \"gridcolor\": \"white\", \"gridwidth\": 2, \"linecolor\": \"white\", \"showbackground\": true, \"ticks\": \"\", \"zerolinecolor\": \"white\"}}, \"shapedefaults\": {\"line\": {\"color\": \"#2a3f5f\"}}, \"ternary\": {\"aaxis\": {\"gridcolor\": \"white\", \"linecolor\": \"white\", \"ticks\": \"\"}, \"baxis\": {\"gridcolor\": \"white\", \"linecolor\": \"white\", \"ticks\": \"\"}, \"bgcolor\": \"#E5ECF6\", \"caxis\": {\"gridcolor\": \"white\", \"linecolor\": \"white\", \"ticks\": \"\"}}, \"title\": {\"x\": 0.05}, \"xaxis\": {\"automargin\": true, \"gridcolor\": \"white\", \"linecolor\": \"white\", \"ticks\": \"\", \"title\": {\"standoff\": 15}, \"zerolinecolor\": \"white\", \"zerolinewidth\": 2}, \"yaxis\": {\"automargin\": true, \"gridcolor\": \"white\", \"linecolor\": \"white\", \"ticks\": \"\", \"title\": {\"standoff\": 15}, \"zerolinecolor\": \"white\", \"zerolinewidth\": 2}}}, \"title\": {\"text\": \"Value\"}},\n",
       "                        {\"responsive\": true}\n",
       "                    ).then(function(){\n",
       "                            \n",
       "var gd = document.getElementById('cb12241b-6dde-4871-9b7f-1f77ca21ab24');\n",
       "var x = new MutationObserver(function (mutations, observer) {{\n",
       "        var display = window.getComputedStyle(gd).display;\n",
       "        if (!display || display === 'none') {{\n",
       "            console.log([gd, 'removed!']);\n",
       "            Plotly.purge(gd);\n",
       "            observer.disconnect();\n",
       "        }}\n",
       "}});\n",
       "\n",
       "// Listen for the removal of the full notebook cells\n",
       "var notebookContainer = gd.closest('#notebook-container');\n",
       "if (notebookContainer) {{\n",
       "    x.observe(notebookContainer, {childList: true});\n",
       "}}\n",
       "\n",
       "// Listen for the clearing of the current output cell\n",
       "var outputEl = gd.closest('.output');\n",
       "if (outputEl) {{\n",
       "    x.observe(outputEl, {childList: true});\n",
       "}}\n",
       "\n",
       "                        })\n",
       "                };\n",
       "                });\n",
       "            </script>\n",
       "        </div>"
      ]
     },
     "metadata": {},
     "output_type": "display_data"
    }
   ],
   "source": [
    "trace0 = go.Scatter(\n",
    "    x=sales.Salesman,\n",
    "    y=sales.Value,\n",
    "    name='Value'\n",
    ")\n",
    "\n",
    "data_1 = [trace0]\n",
    "layout = {'title': 'Value'}\n",
    "\n",
    "fig = go.Figure(data=data_1, layout=layout)\n",
    "\n",
    "iplot(fig)\n"
   ]
  },
  {
   "cell_type": "code",
   "execution_count": null,
   "metadata": {},
   "outputs": [],
   "source": []
  }
 ],
 "metadata": {
  "kernelspec": {
   "display_name": "Python 3",
   "language": "python",
   "name": "python3"
  },
  "language_info": {
   "codemirror_mode": {
    "name": "ipython",
    "version": 3
   },
   "file_extension": ".py",
   "mimetype": "text/x-python",
   "name": "python",
   "nbconvert_exporter": "python",
   "pygments_lexer": "ipython3",
   "version": "3.7.4"
  }
 },
 "nbformat": 4,
 "nbformat_minor": 2
}
